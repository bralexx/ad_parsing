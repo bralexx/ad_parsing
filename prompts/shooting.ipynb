{
 "cells": [
  {
   "cell_type": "code",
   "execution_count": 4,
   "metadata": {},
   "outputs": [],
   "source": [
    "PROMPT = \"\"\"You are an ai trainer in marketplace company. You need to create a JSON from a plain text of a product offer provided by user. This JSON must contain next fields:\n",
    "\"place\" - where buyer can recieve product (or delivery info)\n",
    "\"products\" - list of dictionaries of valid products. \n",
    "Each product dict must contain ONLY following information: \n",
    "\"name\" - short title for a customer, \n",
    "\"price\" - cost of one unit of a product (one number), \n",
    "\"currency\" - in what currency is the price indicated (default is 'рубли'),\n",
    "\"size\" - size or weight of a product (one string),\n",
    "\"count\" - number of product units offered.\n",
    "Represent different variations on each product as DIFFERENT products.\n",
    "Do NOT add description and any other fields. Drop all fields with null value.\n",
    "If NO information about the price provided, the product has to be excluded from the answer.\n",
    "Answer ONLY with JSON string, no other text is needed.\n",
    "\"\"\"\n",
    "API_KEY = ''"
   ]
  },
  {
   "cell_type": "code",
   "execution_count": 5,
   "metadata": {},
   "outputs": [
    {
     "name": "stdout",
     "output_type": "stream",
     "text": [
      "Defaulting to user installation because normal site-packages is not writeable\n",
      "Requirement already satisfied: openai in /home/bralex/.local/lib/python3.11/site-packages (1.3.7)\n",
      "Requirement already satisfied: anyio<4,>=3.5.0 in /home/bralex/.local/lib/python3.11/site-packages (from openai) (3.7.1)\n",
      "Requirement already satisfied: distro<2,>=1.7.0 in /usr/lib/python3.11/site-packages (from openai) (1.8.0)\n",
      "Requirement already satisfied: httpx<1,>=0.23.0 in /home/bralex/.local/lib/python3.11/site-packages (from openai) (0.25.1)\n",
      "Requirement already satisfied: pydantic<3,>=1.9.0 in /home/bralex/.local/lib/python3.11/site-packages (from openai) (1.10.13)\n",
      "Requirement already satisfied: sniffio in /home/bralex/.local/lib/python3.11/site-packages (from openai) (1.3.0)\n",
      "Requirement already satisfied: tqdm>4 in /usr/lib/python3.11/site-packages (from openai) (4.66.1)\n",
      "Requirement already satisfied: typing-extensions<5,>=4.5 in /usr/lib/python3.11/site-packages (from openai) (4.8.0)\n",
      "Requirement already satisfied: idna>=2.8 in /usr/lib/python3.11/site-packages (from anyio<4,>=3.5.0->openai) (3.4)\n",
      "Requirement already satisfied: certifi in /home/bralex/.local/lib/python3.11/site-packages (from httpx<1,>=0.23.0->openai) (2023.7.22)\n",
      "Requirement already satisfied: httpcore in /home/bralex/.local/lib/python3.11/site-packages (from httpx<1,>=0.23.0->openai) (1.0.1)\n",
      "Requirement already satisfied: h11<0.15,>=0.13 in /home/bralex/.local/lib/python3.11/site-packages (from httpcore->httpx<1,>=0.23.0->openai) (0.14.0)\n"
     ]
    }
   ],
   "source": [
    "!pip install openai"
   ]
  },
  {
   "cell_type": "code",
   "execution_count": 25,
   "metadata": {},
   "outputs": [],
   "source": [
    "import openai\n",
    "import pickle as pkl\n",
    "import pandas as pd\n",
    "import json\n",
    "from tqdm.notebook import tqdm"
   ]
  },
  {
   "cell_type": "code",
   "execution_count": 6,
   "metadata": {},
   "outputs": [],
   "source": [
    "openai_client = openai.OpenAI(api_key=API_KEY)"
   ]
  },
  {
   "cell_type": "code",
   "execution_count": 17,
   "metadata": {},
   "outputs": [],
   "source": [
    "with open('../cache/vk_filtered_1500.pkl', 'rb') as f:\n",
    "  df = pkl.load(f)"
   ]
  },
  {
   "cell_type": "code",
   "execution_count": 11,
   "metadata": {},
   "outputs": [
    {
     "data": {
      "text/plain": [
       "200"
      ]
     },
     "execution_count": 11,
     "metadata": {},
     "output_type": "execute_result"
    }
   ],
   "source": [
    "import requests\n",
    "response = requests.get('https://example.com')\n",
    "response.status_code"
   ]
  },
  {
   "cell_type": "code",
   "execution_count": 26,
   "metadata": {},
   "outputs": [],
   "source": [
    "from time import sleep\n",
    "\n",
    "class OpenAIShooter:\n",
    "  def __init__(self, client, prompt):\n",
    "    self.client = client\n",
    "    self.cache = {}\n",
    "    self.model = \"gpt-3.5-turbo\"\n",
    "    self.prompt = prompt\n",
    "\n",
    "  def request(self, text):\n",
    "    if text not in self.storage:\n",
    "      retry = True\n",
    "      while retry:\n",
    "        response = self.client.chat.completions.create(\n",
    "          model=self.model,\n",
    "          messages=[\n",
    "            {\"role\": \"system\", \"content\": self.prompt},\n",
    "            {\"role\": \"user\", \"content\": text}\n",
    "          ],\n",
    "          **({'response_format':{\"type\": \"json_object\"}} if self.model == \"gpt-3.5-turbo-1106\" else {})\n",
    "        )\n",
    "        self.storage[text] = response\n",
    "        retry = response.status_code != 200\n",
    "        if retry:\n",
    "          sleep(0.5)\n",
    "    return self.storage[text]\n",
    "  \n",
    "  def shoot_all(self, df):\n",
    "    answer = {}\n",
    "    for id, text in df.text.items():\n",
    "      try:\n",
    "        answer[id] = json.loads(self.request(text))\n",
    "      except:\n",
    "        answer[id] = self.request(text)\n"
   ]
  },
  {
   "cell_type": "code",
   "execution_count": 27,
   "metadata": {},
   "outputs": [],
   "source": [
    "shooter = OpenAIShooter(openai_client, PROMPT)"
   ]
  },
  {
   "cell_type": "code",
   "execution_count": null,
   "metadata": {},
   "outputs": [],
   "source": [
    "shooter.shoot_all(df)"
   ]
  }
 ],
 "metadata": {
  "kernelspec": {
   "display_name": "Python 3",
   "language": "python",
   "name": "python3"
  },
  "language_info": {
   "codemirror_mode": {
    "name": "ipython",
    "version": 3
   },
   "file_extension": ".py",
   "mimetype": "text/x-python",
   "name": "python",
   "nbconvert_exporter": "python",
   "pygments_lexer": "ipython3",
   "version": "3.11.5"
  }
 },
 "nbformat": 4,
 "nbformat_minor": 2
}
