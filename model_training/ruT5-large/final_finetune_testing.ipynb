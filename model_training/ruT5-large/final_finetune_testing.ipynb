{
 "cells": [
  {
   "cell_type": "code",
   "execution_count": 1,
   "metadata": {},
   "outputs": [],
   "source": [
    "import pandas as pd\n",
    "import numpy as np\n",
    "import re\n",
    "import torch\n",
    "import json\n",
    "from tqdm.notebook import tqdm\n",
    "# from torch.utils.data import Dataset, DataLoader\n",
    "# from transformers import T5Tokenizer, T5ForConditionalGeneration, AdamW\n",
    "from sklearn.model_selection import train_test_split"
   ]
  },
  {
   "cell_type": "code",
   "execution_count": 2,
   "metadata": {},
   "outputs": [],
   "source": [
    "import sys\n",
    "\n",
    "sys.path.append('../utils')\n",
    "from evaluator import Evaluator\n",
    "from json_format import process_json, unprocess_json"
   ]
  },
  {
   "cell_type": "code",
   "execution_count": 3,
   "metadata": {},
   "outputs": [],
   "source": [
    "train = pd.read_csv('../data/train_9k_valid.csv', index_col=0, converters={'json': json.loads}).sample(frac=1, random_state=42)\n",
    "val_set = pd.read_csv('../data/val_set_300_sb_valid.csv', index_col=0, converters={'json': json.loads}).sample(frac=1, random_state=42)\n",
    "manual_test = pd.read_csv('../data/manual_test_100.csv', index_col=0, converters={'json': json.loads}).sample(frac=1, random_state=42)"
   ]
  },
  {
   "cell_type": "code",
   "execution_count": 4,
   "metadata": {},
   "outputs": [
    {
     "name": "stderr",
     "output_type": "stream",
     "text": [
      "You are using the default legacy behaviour of the <class 'transformers.models.t5.tokenization_t5.T5Tokenizer'>. This is expected, and simply means that the `legacy` (previous) behavior will be used so nothing changes for you. If you want to use the new behaviour, set `legacy=False`. This should only be set if you understand what it means, and thoroughly read the reason why this was added as explained in https://github.com/huggingface/transformers/pull/24565\n",
      "Special tokens have been added in the vocabulary, make sure the associated word embeddings are fine-tuned or trained.\n"
     ]
    }
   ],
   "source": [
    "from transformers import AutoTokenizer, AutoModelForSeq2SeqLM\n",
    "\n",
    "tokenizer = AutoTokenizer.from_pretrained(\"ai-forever/ruT5-large\")\n",
    "model = AutoModelForSeq2SeqLM.from_pretrained(\"ai-forever/ruT5-large\")"
   ]
  },
  {
   "cell_type": "code",
   "execution_count": 7,
   "metadata": {},
   "outputs": [],
   "source": [
    "tokenizer.add_tokens([\"<BOB>\", \"<EOB>\", \"<BOT>\", \"<EOT>\", \"<BOP>\", \"<EOP>\", \"<BOC1>\", \"<EOC1>\", \"<BOC2>\", \"<EOC2>\"])\n",
    "model.resize_token_embeddings(len(tokenizer))\n",
    "\n",
    "\n",
    "assert train.loc[train.index[0], 'json'] == unprocess_json(process_json(train.loc[train.index[0], 'json']))"
   ]
  },
  {
   "cell_type": "code",
   "execution_count": 8,
   "metadata": {},
   "outputs": [
    {
     "data": {
      "text/plain": [
       "DatasetDict({\n",
       "    train: Dataset({\n",
       "        features: ['Text', 'json', '__index_level_0__'],\n",
       "        num_rows: 8370\n",
       "    })\n",
       "    test: Dataset({\n",
       "        features: ['Text', 'json', '__index_level_0__'],\n",
       "        num_rows: 441\n",
       "    })\n",
       "})"
      ]
     },
     "execution_count": 8,
     "metadata": {},
     "output_type": "execute_result"
    }
   ],
   "source": [
    "from datasets import Dataset\n",
    "\n",
    "ads_dataset = Dataset.from_pandas(train[[\"Text\", \"json\"]])\n",
    "ads_dataset = ads_dataset.train_test_split(test_size=0.05, seed=42)\n",
    "ads_dataset = ads_dataset.flatten()\n",
    "ads_dataset"
   ]
  },
  {
   "cell_type": "code",
   "execution_count": 9,
   "metadata": {},
   "outputs": [
    {
     "data": {
      "application/vnd.jupyter.widget-view+json": {
       "model_id": "43d62e172d684bb6be03b03eb6381dc0",
       "version_major": 2,
       "version_minor": 0
      },
      "text/plain": [
       "Map (num_proc=4):   0%|          | 0/8370 [00:00<?, ? examples/s]"
      ]
     },
     "metadata": {},
     "output_type": "display_data"
    },
    {
     "data": {
      "application/vnd.jupyter.widget-view+json": {
       "model_id": "c56d0f86a70e424195f17dea31751d04",
       "version_major": 2,
       "version_minor": 0
      },
      "text/plain": [
       "Map (num_proc=4):   0%|          | 0/441 [00:00<?, ? examples/s]"
      ]
     },
     "metadata": {},
     "output_type": "display_data"
    }
   ],
   "source": [
    "def preprocess_function(examples):\n",
    "    inputs = [text for text in examples[\"Text\"]]\n",
    "    # targets = ['' for bundles in examples[\"json\"]]\n",
    "    targets = [process_json(bundles) for bundles in examples[\"json\"]]\n",
    "    model_inputs = tokenizer(inputs, text_target=targets, max_length=128, truncation=True)\n",
    "    return model_inputs\n",
    "\n",
    "ads = ads_dataset.map(\n",
    "    preprocess_function,\n",
    "    batched=True,\n",
    "    num_proc=4,\n",
    "    remove_columns=ads_dataset[\"train\"].column_names\n",
    ")\n",
    "ads = ads.flatten()\n",
    "\n",
    "# ads_test = ads_test_dataset.map(\n",
    "#     preprocess_function,\n",
    "#     batched=True,\n",
    "#     num_proc=4,\n",
    "#     remove_columns=ads_test_dataset.column_names\n",
    "# )\n",
    "# ads_test = ads_test.flatten()\n"
   ]
  },
  {
   "cell_type": "code",
   "execution_count": 10,
   "metadata": {},
   "outputs": [],
   "source": [
    "from transformers import Seq2SeqTrainingArguments, Seq2SeqTrainer"
   ]
  },
  {
   "cell_type": "code",
   "execution_count": 11,
   "metadata": {},
   "outputs": [],
   "source": [
    "from transformers import DataCollatorForSeq2Seq\n",
    "\n",
    "tokenizer.pad_token = tokenizer.eos_token\n",
    "data_collator = DataCollatorForSeq2Seq(tokenizer=tokenizer)"
   ]
  },
  {
   "cell_type": "code",
   "execution_count": 12,
   "metadata": {},
   "outputs": [],
   "source": [
    "from IPython.display import clear_output\n",
    "\n",
    "class MetricComputer:\n",
    "  def __init__(self):\n",
    "    self.generations = []\n",
    "\n",
    "  def __call__(self, eval_preds):\n",
    "    ev = Evaluator(val_set, model=model, tokenizer=tokenizer)\n",
    "    stats = ev.calc_bleu_batched()\n",
    "    self.generations.append(ev.generate_samples_batched(count=20))\n",
    "    # clear_output()\n",
    "    return stats"
   ]
  },
  {
   "cell_type": "code",
   "execution_count": 13,
   "metadata": {},
   "outputs": [
    {
     "name": "stderr",
     "output_type": "stream",
     "text": [
      "/home/vlad/bralex/.venv/lib/python3.10/site-packages/transformers/training_args.py:1493: FutureWarning: `evaluation_strategy` is deprecated and will be removed in version 4.46 of 🤗 Transformers. Use `eval_strategy` instead\n",
      "  warnings.warn(\n"
     ]
    }
   ],
   "source": [
    "n_epochs = 13\n",
    "\n",
    "training_args = Seq2SeqTrainingArguments(\n",
    "    output_dir=\"ruT5-large\",\n",
    "    # overwrite_output_dir=True,\n",
    "    evaluation_strategy=\"steps\",\n",
    "    eval_steps=1000,\n",
    "    learning_rate=5e-5,\n",
    "    per_device_train_batch_size=16,\n",
    "    per_device_eval_batch_size=8,\n",
    "    weight_decay=0.01,\n",
    "    save_total_limit=3,\n",
    "    num_train_epochs=n_epochs,\n",
    "    # predict_with_generate=True,\n",
    "    generation_max_length=128,\n",
    "    fp16=True,\n",
    "    lr_scheduler_type=\"cosine\",\n",
    "    group_by_length=False,\n",
    "    warmup_steps=3,\n",
    ")\n",
    "\n",
    "mc = MetricComputer()\n",
    "empty_dataset = Dataset.from_dict({\"Text\": [], \"json\": []})\n",
    "trainer = Seq2SeqTrainer(\n",
    "    model=model,\n",
    "    args=training_args,\n",
    "    train_dataset=ads[\"train\"],\n",
    "    eval_dataset=ads[\"test\"],\n",
    "    # eval_dataset=empty_dataset,\n",
    "    tokenizer=tokenizer,\n",
    "    data_collator=data_collator,\n",
    "    compute_metrics=mc,\n",
    ")"
   ]
  },
  {
   "cell_type": "code",
   "execution_count": 12,
   "metadata": {},
   "outputs": [
    {
     "name": "stderr",
     "output_type": "stream",
     "text": [
      "/home/vlad/bralex/.venv/lib/python3.10/site-packages/transformers/optimization.py:391: FutureWarning: This implementation of AdamW is deprecated and will be removed in a future version. Use the PyTorch implementation torch.optim.AdamW instead, or set `no_deprecation_warning=True` to disable this warning\n",
      "  warnings.warn(\n",
      "You're using a T5TokenizerFast tokenizer. Please note that with a fast tokenizer, using the `__call__` method is faster than using a method to encode the text followed by a call to the `pad` method to get a padded encoding.\n"
     ]
    },
    {
     "data": {
      "text/html": [
       "\n",
       "    <div>\n",
       "      \n",
       "      <progress value='6812' max='6812' style='width:300px; height:20px; vertical-align: middle;'></progress>\n",
       "      [6812/6812 1:29:12, Epoch 13/13]\n",
       "    </div>\n",
       "    <table border=\"1\" class=\"dataframe\">\n",
       "  <thead>\n",
       " <tr style=\"text-align: left;\">\n",
       "      <th>Step</th>\n",
       "      <th>Training Loss</th>\n",
       "      <th>Validation Loss</th>\n",
       "      <th>Bep-sb</th>\n",
       "      <th>Bep-multi</th>\n",
       "      <th>Ta-bleu-sb</th>\n",
       "      <th>Ta-chrf-sb</th>\n",
       "      <th>Ta-chrf-multi</th>\n",
       "      <th>Eb-ind</th>\n",
       "      <th>Mb-ind</th>\n",
       "      <th>Bleu-classic</th>\n",
       "      <th>Chrf-classic</th>\n",
       "      <th>Chrf-classic-multi</th>\n",
       "      <th>Bleu Old</th>\n",
       "      <th>Failed Ratio</th>\n",
       "    </tr>\n",
       "  </thead>\n",
       "  <tbody>\n",
       "    <tr>\n",
       "      <td>1000</td>\n",
       "      <td>0.420000</td>\n",
       "      <td>0.341139</td>\n",
       "      <td>0.682549</td>\n",
       "      <td>0.618635</td>\n",
       "      <td>39.589126</td>\n",
       "      <td>76.811225</td>\n",
       "      <td>75.118051</td>\n",
       "      <td>0.078000</td>\n",
       "      <td>0.064000</td>\n",
       "      <td>52.357236</td>\n",
       "      <td>74.038565</td>\n",
       "      <td>70.480968</td>\n",
       "      <td>52.357236</td>\n",
       "      <td>0.000000</td>\n",
       "    </tr>\n",
       "    <tr>\n",
       "      <td>2000</td>\n",
       "      <td>0.273700</td>\n",
       "      <td>0.328908</td>\n",
       "      <td>0.711432</td>\n",
       "      <td>0.671214</td>\n",
       "      <td>40.893856</td>\n",
       "      <td>78.456784</td>\n",
       "      <td>77.394638</td>\n",
       "      <td>0.022000</td>\n",
       "      <td>0.066000</td>\n",
       "      <td>54.156738</td>\n",
       "      <td>75.551359</td>\n",
       "      <td>74.278085</td>\n",
       "      <td>54.156738</td>\n",
       "      <td>0.002000</td>\n",
       "    </tr>\n",
       "    <tr>\n",
       "      <td>3000</td>\n",
       "      <td>0.182500</td>\n",
       "      <td>0.342500</td>\n",
       "      <td>0.730814</td>\n",
       "      <td>0.682197</td>\n",
       "      <td>43.354566</td>\n",
       "      <td>80.039947</td>\n",
       "      <td>78.573414</td>\n",
       "      <td>0.042000</td>\n",
       "      <td>0.060000</td>\n",
       "      <td>54.569057</td>\n",
       "      <td>76.896123</td>\n",
       "      <td>76.702511</td>\n",
       "      <td>54.569057</td>\n",
       "      <td>0.006000</td>\n",
       "    </tr>\n",
       "    <tr>\n",
       "      <td>4000</td>\n",
       "      <td>0.132600</td>\n",
       "      <td>0.358613</td>\n",
       "      <td>0.716935</td>\n",
       "      <td>0.685848</td>\n",
       "      <td>41.906696</td>\n",
       "      <td>79.158118</td>\n",
       "      <td>78.874741</td>\n",
       "      <td>0.026000</td>\n",
       "      <td>0.058000</td>\n",
       "      <td>50.678412</td>\n",
       "      <td>76.472870</td>\n",
       "      <td>76.784072</td>\n",
       "      <td>50.678412</td>\n",
       "      <td>0.000000</td>\n",
       "    </tr>\n",
       "    <tr>\n",
       "      <td>5000</td>\n",
       "      <td>0.104000</td>\n",
       "      <td>0.379249</td>\n",
       "      <td>0.728599</td>\n",
       "      <td>0.697764</td>\n",
       "      <td>43.056374</td>\n",
       "      <td>79.591233</td>\n",
       "      <td>79.343390</td>\n",
       "      <td>0.026000</td>\n",
       "      <td>0.066000</td>\n",
       "      <td>53.315289</td>\n",
       "      <td>76.865857</td>\n",
       "      <td>77.566729</td>\n",
       "      <td>53.315289</td>\n",
       "      <td>0.000000</td>\n",
       "    </tr>\n",
       "    <tr>\n",
       "      <td>6000</td>\n",
       "      <td>0.088100</td>\n",
       "      <td>0.382238</td>\n",
       "      <td>0.724529</td>\n",
       "      <td>0.696209</td>\n",
       "      <td>42.523320</td>\n",
       "      <td>79.458857</td>\n",
       "      <td>79.256893</td>\n",
       "      <td>0.018000</td>\n",
       "      <td>0.064000</td>\n",
       "      <td>54.221383</td>\n",
       "      <td>76.261452</td>\n",
       "      <td>77.207450</td>\n",
       "      <td>54.221383</td>\n",
       "      <td>0.000000</td>\n",
       "    </tr>\n",
       "  </tbody>\n",
       "</table><p>"
      ],
      "text/plain": [
       "<IPython.core.display.HTML object>"
      ]
     },
     "metadata": {},
     "output_type": "display_data"
    },
    {
     "name": "stdout",
     "output_type": "stream",
     "text": [
      "<BOT> Sony Sigma 30 1.4 + 600<EOP><BOC1> 1<EOC1><BOC2> GEL<EOC2>\n",
      "<BOT> ремешки apple watch 38/41 mm, uag 20<EOP><BOC1> 1<EOC1><BOC2> лари<EOC2>\n",
      "<BOT> sony nex-5n with sigma 30 1.4 +600<EOP><BOC1> 1<EOC1><BOC2> GEL<EOC2>\n",
      "<BOT> рюкзак, 40 литров, идеальное состояние, 100<EOP><BOC1> 1<EOC1><BOC2> GEL<EOC2>\n"
     ]
    },
    {
     "data": {
      "text/plain": [
       "TrainOutput(global_step=6812, training_loss=0.2345005036520384, metrics={'train_runtime': 5353.8745, 'train_samples_per_second': 20.324, 'train_steps_per_second': 1.272, 'total_flos': 5.6719849860096e+16, 'train_loss': 0.2345005036520384, 'epoch': 13.0})"
      ]
     },
     "execution_count": 12,
     "metadata": {},
     "output_type": "execute_result"
    }
   ],
   "source": [
    "trainer.train()"
   ]
  },
  {
   "cell_type": "code",
   "execution_count": 13,
   "metadata": {},
   "outputs": [],
   "source": [
    "import gc\n",
    "gc.collect()\n",
    "torch.cuda.empty_cache()"
   ]
  },
  {
   "cell_type": "code",
   "execution_count": 4,
   "metadata": {},
   "outputs": [],
   "source": [
    "output_dir = \"ruT5-large-trained\"\n",
    "# model.save_pretrained(output_dir)\n",
    "# tokenizer.save_pretrained(output_dir)"
   ]
  },
  {
   "cell_type": "code",
   "execution_count": 6,
   "metadata": {},
   "outputs": [],
   "source": [
    "from transformers import AutoTokenizer, AutoModelForSeq2SeqLM\n",
    "\n",
    "tokenizer = AutoTokenizer.from_pretrained(output_dir)\n",
    "model = AutoModelForSeq2SeqLM.from_pretrained(output_dir).to('cuda')"
   ]
  },
  {
   "cell_type": "code",
   "execution_count": 15,
   "metadata": {},
   "outputs": [
    {
     "name": "stderr",
     "output_type": "stream",
     "text": [
      "/home/vlad/bralex/.venv/lib/python3.10/site-packages/transformers/generation/configuration_utils.py:588: UserWarning: `num_beams` is set to 1. However, `early_stopping` is set to `True` -- this flag is only used in beam-based generation modes. You should set `num_beams>1` or unset `early_stopping`.\n",
      "  warnings.warn(\n"
     ]
    },
    {
     "data": {
      "text/plain": [
       "{'BEP-sb': 0.7225385295939926,\n",
       " 'BEP-multi': 0.6950607267170497,\n",
       " 'TA-BLEU-sb': 42.27549211585097,\n",
       " 'TA-CHRF-sb': 79.44316171521454,\n",
       " 'TA-CHRF-multi': 79.1766937539493,\n",
       " 'EB-ind': 0.014,\n",
       " 'MB-ind': 0.064,\n",
       " 'BLEU-classic': 52.55155492028843,\n",
       " 'CHRF-classic': 76.29997669403694,\n",
       " 'CHRF-classic-multi': 77.08981173389313,\n",
       " 'bleu_old': 52.55155492028843,\n",
       " 'failed_ratio': 0.0}"
      ]
     },
     "execution_count": 15,
     "metadata": {},
     "output_type": "execute_result"
    }
   ],
   "source": [
    "mc(1)"
   ]
  },
  {
   "cell_type": "code",
   "execution_count": 27,
   "metadata": {},
   "outputs": [
    {
     "name": "stderr",
     "output_type": "stream",
     "text": [
      "/home/vlad/bralex/.venv/lib/python3.10/site-packages/transformers/generation/configuration_utils.py:588: UserWarning: `num_beams` is set to 1. However, `early_stopping` is set to `True` -- this flag is only used in beam-based generation modes. You should set `num_beams>1` or unset `early_stopping`.\n",
      "  warnings.warn(\n"
     ]
    },
    {
     "data": {
      "text/plain": [
       "'<pad><BOB><BOT> большой контейнер для хранения<EOT><BOP> 30<EOP><BOC1> 1<EOC1><BOC2> GEL<EOC2><EOB><BOB><BOT> вешалки металлические, прорезиненные<EOT><BOP> 9<EOP><BOC1> 9 шт.<EOC1><BOC2> GEL<EOC2><EOB><BOB><BOT> прищепки<EOT><BOP> 54 шт.<EOC1><BOC2> GEL<EOC2><EOB><BOB><BOT> скотч металлический, новый<EOT><BOP> 30<EOP><BOC1> 54 шт.<EOC1><BOC2> GEL<EOC2><EOB></s>'"
      ]
     },
     "execution_count": 27,
     "metadata": {},
     "output_type": "execute_result"
    }
   ],
   "source": [
    "s = manual_test.loc[6550, 'Text']\n",
    "\n",
    "inputs = tokenizer.encode(s, return_tensors='pt').to('cuda')\n",
    "out = model.generate(inputs, max_length=150, early_stopping=True)\n",
    "tokenizer.decode(out[0])"
   ]
  },
  {
   "cell_type": "code",
   "execution_count": 34,
   "metadata": {},
   "outputs": [
    {
     "name": "stdout",
     "output_type": "stream",
     "text": [
      "[\n",
      "    {\n",
      "        \"Title\": \" большой контейнер для хранения\",\n",
      "        \"Price\": \" 30\",\n",
      "        \"Count\": \" 1\",\n",
      "        \"Currency\": \" GEL\"\n",
      "    },\n",
      "    {\n",
      "        \"Title\": \" вешалки металлические, прорезиненные\",\n",
      "        \"Price\": \" 9\",\n",
      "        \"Count\": \" 9 шт.\",\n",
      "        \"Currency\": \" GEL\"\n",
      "    },\n",
      "    {\n",
      "        \"Title\": \" прищепки\",\n",
      "        \"Price\": \" 30\",\n",
      "        \"Count\": \"54 шт.\",\n",
      "        \"Currency\": \" GEL\"\n",
      "    },\n",
      "    {\n",
      "        \"Title\": \" скотч металлический, новый\",\n",
      "        \"Price\": \" 30\",\n",
      "        \"Count\": \" 54 шт.\",\n",
      "        \"Currency\": \" GEL\"\n",
      "    }\n",
      "]\n"
     ]
    }
   ],
   "source": [
    "s = '<BOB><BOT> большой контейнер для хранения<EOT><BOP> 30<EOP><BOC1> 1<EOC1><BOC2> GEL<EOC2><EOB><BOB><BOT> вешалки металлические, прорезиненные<EOT><BOP> 9<EOP><BOC1> 9 шт.<EOC1><BOC2> GEL<EOC2><EOB><BOB><BOT> прищепки<EOT><BOP> 30<EOP><BOC1>54 шт.<EOC1><BOC2> GEL<EOC2><EOB><BOB><BOT> скотч металлический, новый<EOT><BOP> 30<EOP><BOC1> 54 шт.<EOC1><BOC2> GEL<EOC2><EOB>'\n",
    "print(json.dumps(unprocess_json(s), indent=4, ensure_ascii=False))"
   ]
  },
  {
   "cell_type": "code",
   "execution_count": 19,
   "metadata": {},
   "outputs": [
    {
     "name": "stderr",
     "output_type": "stream",
     "text": [
      "/home/vlad/bralex/.venv/lib/python3.10/site-packages/transformers/generation/configuration_utils.py:588: UserWarning: `num_beams` is set to 1. However, `early_stopping` is set to `True` -- this flag is only used in beam-based generation modes. You should set `num_beams>1` or unset `early_stopping`.\n",
      "  warnings.warn(\n"
     ]
    },
    {
     "name": "stdout",
     "output_type": "stream",
     "text": [
      "<BOT> прищепки<EOT><BOP> 54 шт.<EOC1><BOC2> GEL<EOC2>\n"
     ]
    },
    {
     "data": {
      "text/html": [
       "<div>\n",
       "<style scoped>\n",
       "    .dataframe tbody tr th:only-of-type {\n",
       "        vertical-align: middle;\n",
       "    }\n",
       "\n",
       "    .dataframe tbody tr th {\n",
       "        vertical-align: top;\n",
       "    }\n",
       "\n",
       "    .dataframe thead th {\n",
       "        text-align: right;\n",
       "    }\n",
       "</style>\n",
       "<table border=\"1\" class=\"dataframe\">\n",
       "  <thead>\n",
       "    <tr style=\"text-align: right;\">\n",
       "      <th></th>\n",
       "      <th>id</th>\n",
       "      <th>json</th>\n",
       "    </tr>\n",
       "  </thead>\n",
       "  <tbody>\n",
       "    <tr>\n",
       "      <th>0</th>\n",
       "      <td>6550</td>\n",
       "      <td>[]</td>\n",
       "    </tr>\n",
       "  </tbody>\n",
       "</table>\n",
       "</div>"
      ],
      "text/plain": [
       "     id json\n",
       "0  6550   []"
      ]
     },
     "execution_count": 19,
     "metadata": {},
     "output_type": "execute_result"
    }
   ],
   "source": [
    "ev = Evaluator(manual_test, model=model, tokenizer=tokenizer, batch_size=32)\n",
    "output = ev.generate_samples_batched([6550])\n",
    "df = pd.DataFrame([{'id': i, 'json': json.dumps(v, indent=4, ensure_ascii=False)} for i, v in output.items()])\n",
    "# df.to_csv('manual_test_outputs_default.csv', index=False)\n",
    "df"
   ]
  },
  {
   "cell_type": "code",
   "execution_count": 16,
   "metadata": {},
   "outputs": [],
   "source": [
    "# distill_data = pd.read_csv('../data/distill_data.csv', index_col=0)\n",
    "# distill_data.head()"
   ]
  },
  {
   "cell_type": "code",
   "execution_count": 17,
   "metadata": {},
   "outputs": [],
   "source": [
    "# ev = Evaluator(distill_data, model, tokenizer)\n",
    "# output = ev.generate_samples_batched(batch_size=256)"
   ]
  },
  {
   "cell_type": "code",
   "execution_count": 18,
   "metadata": {},
   "outputs": [],
   "source": [
    "# distill_data['json'] = pd.Series(output)"
   ]
  },
  {
   "cell_type": "code",
   "execution_count": 19,
   "metadata": {},
   "outputs": [],
   "source": [
    "# distill_data.to_csv('../data/distill_100k.csv')"
   ]
  },
  {
   "cell_type": "code",
   "execution_count": null,
   "metadata": {},
   "outputs": [],
   "source": []
  }
 ],
 "metadata": {
  "kernelspec": {
   "display_name": ".venv",
   "language": "python",
   "name": "python3"
  },
  "language_info": {
   "codemirror_mode": {
    "name": "ipython",
    "version": 3
   },
   "file_extension": ".py",
   "mimetype": "text/x-python",
   "name": "python",
   "nbconvert_exporter": "python",
   "pygments_lexer": "ipython3",
   "version": "3.10.14"
  }
 },
 "nbformat": 4,
 "nbformat_minor": 2
}
