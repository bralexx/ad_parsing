{
 "cells": [
  {
   "cell_type": "code",
   "execution_count": 1,
   "metadata": {},
   "outputs": [],
   "source": [
    "from metrics import calc_bundles_metrics\n",
    "import pandas as pd\n",
    "import json"
   ]
  },
  {
   "cell_type": "code",
   "execution_count": 2,
   "metadata": {},
   "outputs": [],
   "source": [
    "df = pd.read_csv('manual_test_labeled.csv', converters={'GptOutput': json.loads, 'Output': json.loads})"
   ]
  },
  {
   "cell_type": "code",
   "execution_count": 3,
   "metadata": {},
   "outputs": [],
   "source": [
    "refs = [list(bundles) for bundles in df.GptOutput.values]\n",
    "preds = [list(bundles) for bundles in df.Output.values]"
   ]
  },
  {
   "cell_type": "code",
   "execution_count": 4,
   "metadata": {},
   "outputs": [
    {
     "data": {
      "text/plain": [
       "{'BEP-sb': 0.6043147583426661,\n",
       " 'BEP-multi': 0.5802362544294448,\n",
       " 'TA-BLEU-sb': 36.113823409914104,\n",
       " 'TA-CHRF-sb': 73.84116790385943,\n",
       " 'TA-CHRF-multi': 72.33494467131135,\n",
       " 'EB-ind': 0.04,\n",
       " 'MB-ind': 0.06,\n",
       " 'BLEU-classic': 43.27810037907898,\n",
       " 'CHRF-classic': 68.96548521260203,\n",
       " 'CHRF-classic-multi': 69.04369019208359}"
      ]
     },
     "execution_count": 4,
     "metadata": {},
     "output_type": "execute_result"
    }
   ],
   "source": [
    "calc_bundles_metrics(preds, refs)"
   ]
  },
  {
   "cell_type": "code",
   "execution_count": null,
   "metadata": {},
   "outputs": [],
   "source": []
  }
 ],
 "metadata": {
  "kernelspec": {
   "display_name": ".venv",
   "language": "python",
   "name": "python3"
  },
  "language_info": {
   "codemirror_mode": {
    "name": "ipython",
    "version": 3
   },
   "file_extension": ".py",
   "mimetype": "text/x-python",
   "name": "python",
   "nbconvert_exporter": "python",
   "pygments_lexer": "ipython3",
   "version": "3.10.14"
  }
 },
 "nbformat": 4,
 "nbformat_minor": 2
}
