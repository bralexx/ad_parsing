{
 "cells": [
  {
   "cell_type": "code",
   "execution_count": 1,
   "metadata": {},
   "outputs": [],
   "source": [
    "import pandas as pd\n",
    "import torch\n",
    "import json\n",
    "import re"
   ]
  },
  {
   "cell_type": "code",
   "execution_count": 2,
   "metadata": {},
   "outputs": [],
   "source": [
    "import sys\n",
    "\n",
    "sys.path.append('../utils')\n",
    "from json_format import process_json, unprocess_json\n",
    "from evaluator import Evaluator"
   ]
  },
  {
   "cell_type": "code",
   "execution_count": 3,
   "metadata": {},
   "outputs": [
    {
     "name": "stderr",
     "output_type": "stream",
     "text": [
      "Special tokens have been added in the vocabulary, make sure the associated word embeddings are fine-tuned or trained.\n"
     ]
    }
   ],
   "source": [
    "from transformers import AutoTokenizer, AutoModelForSeq2SeqLM\n",
    "\n",
    "# tokenizer = AutoTokenizer.from_pretrained(\"ai-forever/FRED-T5-large\")\n",
    "# model = AutoModelForSeq2SeqLM.from_pretrained(\"ai-forever/FRED-T5-large\")\n",
    "tokenizer = AutoTokenizer.from_pretrained('./fredT5-large-trained')\n",
    "model = AutoModelForSeq2SeqLM.from_pretrained('./fredT5-large-trained').to('cuda')"
   ]
  },
  {
   "cell_type": "code",
   "execution_count": 4,
   "metadata": {},
   "outputs": [],
   "source": [
    "converters = {'json': json.loads}\n",
    "train = pd.read_csv('../data/train_9k_valid.csv', index_col=0, converters=converters).sample(frac=1, random_state=42)\n",
    "val_set = pd.read_csv('../data/val_set_300_sb_valid.csv', index_col=0, converters=converters).sample(frac=1, random_state=42)\n",
    "manual_test = pd.read_csv('../data/manual_test_100.csv', index_col=0, converters=converters).sample(frac=1, random_state=42)"
   ]
  },
  {
   "cell_type": "code",
   "execution_count": 5,
   "metadata": {},
   "outputs": [],
   "source": [
    "tokenizer.add_tokens([\"<BOB>\", \"<EOB>\", \"<BOT>\", \"<EOT>\", \"<BOP>\", \"<EOP>\", \"<BOC1>\", \"<EOC1>\", \"<BOC2>\", \"<EOC2>\"])\n",
    "model.resize_token_embeddings(len(tokenizer))\n",
    "\n",
    "\n",
    "assert train.loc[train.index[0], 'json'] == unprocess_json(process_json(train.loc[train.index[0], 'json']))"
   ]
  },
  {
   "cell_type": "code",
   "execution_count": 6,
   "metadata": {},
   "outputs": [
    {
     "data": {
      "text/plain": [
       "DatasetDict({\n",
       "    train: Dataset({\n",
       "        features: ['Text', 'json', '__index_level_0__'],\n",
       "        num_rows: 8766\n",
       "    })\n",
       "    test: Dataset({\n",
       "        features: ['Text', 'json', '__index_level_0__'],\n",
       "        num_rows: 45\n",
       "    })\n",
       "})"
      ]
     },
     "execution_count": 6,
     "metadata": {},
     "output_type": "execute_result"
    }
   ],
   "source": [
    "from datasets import Dataset\n",
    "\n",
    "ads_dataset = Dataset.from_pandas(train[[\"Text\", \"json\"]])\n",
    "ads_dataset = ads_dataset.train_test_split(test_size=0.005, seed=42)\n",
    "ads_dataset = ads_dataset.flatten()\n",
    "ads_dataset"
   ]
  },
  {
   "cell_type": "code",
   "execution_count": 7,
   "metadata": {},
   "outputs": [
    {
     "data": {
      "application/vnd.jupyter.widget-view+json": {
       "model_id": "8594839aa91642d7a43562fd7486dd84",
       "version_major": 2,
       "version_minor": 0
      },
      "text/plain": [
       "Map (num_proc=4):   0%|          | 0/8766 [00:00<?, ? examples/s]"
      ]
     },
     "metadata": {},
     "output_type": "display_data"
    },
    {
     "name": "stderr",
     "output_type": "stream",
     "text": [
      "/home/vlad/bralex/.venv/lib/python3.10/site-packages/transformers/tokenization_utils_base.py:4005: UserWarning: `as_target_tokenizer` is deprecated and will be removed in v5 of Transformers. You can tokenize your labels by using the argument `text_target` of the regular `__call__` method (either in the same call as your input texts if you use the same keyword arguments, or in a separate call.\n",
      "  warnings.warn(\n",
      "/home/vlad/bralex/.venv/lib/python3.10/site-packages/transformers/tokenization_utils_base.py:4005: UserWarning: `as_target_tokenizer` is deprecated and will be removed in v5 of Transformers. You can tokenize your labels by using the argument `text_target` of the regular `__call__` method (either in the same call as your input texts if you use the same keyword arguments, or in a separate call.\n",
      "  warnings.warn(\n",
      "/home/vlad/bralex/.venv/lib/python3.10/site-packages/transformers/tokenization_utils_base.py:4005: UserWarning: `as_target_tokenizer` is deprecated and will be removed in v5 of Transformers. You can tokenize your labels by using the argument `text_target` of the regular `__call__` method (either in the same call as your input texts if you use the same keyword arguments, or in a separate call.\n",
      "  warnings.warn(\n",
      "/home/vlad/bralex/.venv/lib/python3.10/site-packages/transformers/tokenization_utils_base.py:4005: UserWarning: `as_target_tokenizer` is deprecated and will be removed in v5 of Transformers. You can tokenize your labels by using the argument `text_target` of the regular `__call__` method (either in the same call as your input texts if you use the same keyword arguments, or in a separate call.\n",
      "  warnings.warn(\n"
     ]
    },
    {
     "data": {
      "application/vnd.jupyter.widget-view+json": {
       "model_id": "87ae9f9aef8e4d369a6568912170827d",
       "version_major": 2,
       "version_minor": 0
      },
      "text/plain": [
       "Map (num_proc=4):   0%|          | 0/45 [00:00<?, ? examples/s]"
      ]
     },
     "metadata": {},
     "output_type": "display_data"
    },
    {
     "name": "stderr",
     "output_type": "stream",
     "text": [
      "/home/vlad/bralex/.venv/lib/python3.10/site-packages/transformers/tokenization_utils_base.py:4005: UserWarning: `as_target_tokenizer` is deprecated and will be removed in v5 of Transformers. You can tokenize your labels by using the argument `text_target` of the regular `__call__` method (either in the same call as your input texts if you use the same keyword arguments, or in a separate call.\n",
      "  warnings.warn(\n",
      "/home/vlad/bralex/.venv/lib/python3.10/site-packages/transformers/tokenization_utils_base.py:4005: UserWarning: `as_target_tokenizer` is deprecated and will be removed in v5 of Transformers. You can tokenize your labels by using the argument `text_target` of the regular `__call__` method (either in the same call as your input texts if you use the same keyword arguments, or in a separate call.\n",
      "  warnings.warn(\n",
      "/home/vlad/bralex/.venv/lib/python3.10/site-packages/transformers/tokenization_utils_base.py:4005: UserWarning: `as_target_tokenizer` is deprecated and will be removed in v5 of Transformers. You can tokenize your labels by using the argument `text_target` of the regular `__call__` method (either in the same call as your input texts if you use the same keyword arguments, or in a separate call.\n",
      "  warnings.warn(\n",
      "/home/vlad/bralex/.venv/lib/python3.10/site-packages/transformers/tokenization_utils_base.py:4005: UserWarning: `as_target_tokenizer` is deprecated and will be removed in v5 of Transformers. You can tokenize your labels by using the argument `text_target` of the regular `__call__` method (either in the same call as your input texts if you use the same keyword arguments, or in a separate call.\n",
      "  warnings.warn(\n"
     ]
    }
   ],
   "source": [
    "def preprocess_function(examples):\n",
    "    inputs = [tokenizer.bos_token + text + tokenizer.eos_token for text in examples[\"Text\"]]\n",
    "    targets = [tokenizer.bos_token + process_json(bundles) + tokenizer.eos_token for bundles in examples[\"json\"]]\n",
    "    # model_inputs = tokenizer(inputs, text_target=targets, max_length=256, truncation=True)\n",
    "    # return model_inputs\n",
    "    model_inputs = tokenizer(inputs, max_length=128, truncation=True)\n",
    "\n",
    "    # Tokenize targets\n",
    "    with tokenizer.as_target_tokenizer():\n",
    "        labels = tokenizer(targets, max_length=128, truncation=True)\n",
    "\n",
    "    model_inputs['labels'] = labels['input_ids']\n",
    "    return model_inputs\n",
    "\n",
    "ads = ads_dataset.map(\n",
    "    preprocess_function,\n",
    "    batched=True,\n",
    "    num_proc=4,\n",
    "    remove_columns=ads_dataset[\"train\"].column_names\n",
    ")\n",
    "ads = ads.flatten()"
   ]
  },
  {
   "cell_type": "code",
   "execution_count": 8,
   "metadata": {},
   "outputs": [],
   "source": [
    "from transformers import Seq2SeqTrainingArguments, Seq2SeqTrainer"
   ]
  },
  {
   "cell_type": "code",
   "execution_count": 9,
   "metadata": {},
   "outputs": [],
   "source": [
    "from transformers import DataCollatorForSeq2Seq\n",
    "\n",
    "tokenizer.pad_token = tokenizer.eos_token\n",
    "data_collator = DataCollatorForSeq2Seq(tokenizer=tokenizer)"
   ]
  },
  {
   "cell_type": "code",
   "execution_count": 10,
   "metadata": {},
   "outputs": [],
   "source": [
    "class MetricComputer:\n",
    "  def __init__(self, batch_size=8):\n",
    "    self.batch_size = batch_size\n",
    "    self.generations = []\n",
    "\n",
    "  def __call__(self, eval_preds):\n",
    "    ev = Evaluator(val_set, model=model, tokenizer=tokenizer, batch_size=self.batch_size, seq_tokens=True)\n",
    "    stats = ev.calc_bleu_batched()\n",
    "    self.generations.append(ev.generate_samples_batched(count=20))\n",
    "    # clear_output()\n",
    "    return stats"
   ]
  },
  {
   "cell_type": "code",
   "execution_count": 11,
   "metadata": {},
   "outputs": [
    {
     "name": "stderr",
     "output_type": "stream",
     "text": [
      "/home/vlad/bralex/.venv/lib/python3.10/site-packages/transformers/training_args.py:1493: FutureWarning: `evaluation_strategy` is deprecated and will be removed in version 4.46 of 🤗 Transformers. Use `eval_strategy` instead\n",
      "  warnings.warn(\n"
     ]
    }
   ],
   "source": [
    "n_epochs = 13\n",
    "\n",
    "training_args = Seq2SeqTrainingArguments(\n",
    "  output_dir=\"fredT5-large-checkpoints\",\n",
    "  # overwrite_output_dir=True,\n",
    "  evaluation_strategy=\"steps\",\n",
    "  eval_steps=1500,\n",
    "  learning_rate=4e-5,\n",
    "  per_device_train_batch_size=8,\n",
    "  per_device_eval_batch_size=2,\n",
    "  weight_decay=0.01,\n",
    "  save_total_limit=1,\n",
    "  num_train_epochs=n_epochs,\n",
    "  # predict_with_generate=True,\n",
    "  # generation_max_length=128,\n",
    "  lr_scheduler_type=\"cosine\",\n",
    "  group_by_length=False,\n",
    "  warmup_steps=3,\n",
    "  # fp16=True,\n",
    ")\n",
    "\n",
    "\n",
    "mc = MetricComputer(batch_size=8)\n",
    "empty_dataset = Dataset.from_dict({\"Text\": [], \"json\": []})\n",
    "trainer = Seq2SeqTrainer(\n",
    "  model=model,\n",
    "  args=training_args,\n",
    "  train_dataset=ads[\"train\"],\n",
    "  eval_dataset=ads[\"test\"],\n",
    "  # eval_dataset=empty_dataset,\n",
    "  tokenizer=tokenizer,\n",
    "  data_collator=data_collator,\n",
    "  compute_metrics=mc,\n",
    ")"
   ]
  },
  {
   "cell_type": "code",
   "execution_count": 12,
   "metadata": {},
   "outputs": [
    {
     "name": "stderr",
     "output_type": "stream",
     "text": [
      "/home/vlad/bralex/.venv/lib/python3.10/site-packages/transformers/optimization.py:391: FutureWarning: This implementation of AdamW is deprecated and will be removed in a future version. Use the PyTorch implementation torch.optim.AdamW instead, or set `no_deprecation_warning=True` to disable this warning\n",
      "  warnings.warn(\n",
      "You're using a GPT2TokenizerFast tokenizer. Please note that with a fast tokenizer, using the `__call__` method is faster than using a method to encode the text followed by a call to the `pad` method to get a padded encoding.\n"
     ]
    },
    {
     "data": {
      "text/html": [
       "\n",
       "    <div>\n",
       "      \n",
       "      <progress value='14248' max='14248' style='width:300px; height:20px; vertical-align: middle;'></progress>\n",
       "      [14248/14248 3:17:22, Epoch 13/13]\n",
       "    </div>\n",
       "    <table border=\"1\" class=\"dataframe\">\n",
       "  <thead>\n",
       " <tr style=\"text-align: left;\">\n",
       "      <th>Step</th>\n",
       "      <th>Training Loss</th>\n",
       "      <th>Validation Loss</th>\n",
       "      <th>Bep-sb</th>\n",
       "      <th>Bep-multi</th>\n",
       "      <th>Ta-bleu-sb</th>\n",
       "      <th>Ta-chrf-sb</th>\n",
       "      <th>Ta-chrf-multi</th>\n",
       "      <th>Eb-ind</th>\n",
       "      <th>Mb-ind</th>\n",
       "      <th>Bleu-classic</th>\n",
       "      <th>Chrf-classic</th>\n",
       "      <th>Chrf-classic-multi</th>\n",
       "      <th>Bleu Old</th>\n",
       "      <th>Failed Ratio</th>\n",
       "    </tr>\n",
       "  </thead>\n",
       "  <tbody>\n",
       "    <tr>\n",
       "      <td>1500</td>\n",
       "      <td>0.543500</td>\n",
       "      <td>0.287170</td>\n",
       "      <td>0.665500</td>\n",
       "      <td>0.603816</td>\n",
       "      <td>37.428398</td>\n",
       "      <td>76.538909</td>\n",
       "      <td>75.457577</td>\n",
       "      <td>0.070000</td>\n",
       "      <td>0.086000</td>\n",
       "      <td>50.550563</td>\n",
       "      <td>72.821115</td>\n",
       "      <td>71.848340</td>\n",
       "      <td>50.550563</td>\n",
       "      <td>0.000000</td>\n",
       "    </tr>\n",
       "    <tr>\n",
       "      <td>3000</td>\n",
       "      <td>0.361200</td>\n",
       "      <td>0.230110</td>\n",
       "      <td>0.680795</td>\n",
       "      <td>0.641755</td>\n",
       "      <td>37.455096</td>\n",
       "      <td>77.344990</td>\n",
       "      <td>77.132497</td>\n",
       "      <td>0.030000</td>\n",
       "      <td>0.084000</td>\n",
       "      <td>52.131850</td>\n",
       "      <td>73.719681</td>\n",
       "      <td>74.827859</td>\n",
       "      <td>52.131850</td>\n",
       "      <td>0.000000</td>\n",
       "    </tr>\n",
       "    <tr>\n",
       "      <td>4500</td>\n",
       "      <td>0.301800</td>\n",
       "      <td>0.205622</td>\n",
       "      <td>0.693342</td>\n",
       "      <td>0.657503</td>\n",
       "      <td>39.949924</td>\n",
       "      <td>78.439480</td>\n",
       "      <td>77.852626</td>\n",
       "      <td>0.044000</td>\n",
       "      <td>0.060000</td>\n",
       "      <td>54.203794</td>\n",
       "      <td>75.089276</td>\n",
       "      <td>75.054975</td>\n",
       "      <td>54.203794</td>\n",
       "      <td>0.000000</td>\n",
       "    </tr>\n",
       "    <tr>\n",
       "      <td>6000</td>\n",
       "      <td>0.275000</td>\n",
       "      <td>0.199193</td>\n",
       "      <td>0.691347</td>\n",
       "      <td>0.658049</td>\n",
       "      <td>39.473639</td>\n",
       "      <td>77.934002</td>\n",
       "      <td>77.499784</td>\n",
       "      <td>0.020000</td>\n",
       "      <td>0.070000</td>\n",
       "      <td>54.231080</td>\n",
       "      <td>74.531189</td>\n",
       "      <td>74.736671</td>\n",
       "      <td>54.231080</td>\n",
       "      <td>0.000000</td>\n",
       "    </tr>\n",
       "    <tr>\n",
       "      <td>7500</td>\n",
       "      <td>0.246600</td>\n",
       "      <td>0.193155</td>\n",
       "      <td>0.704858</td>\n",
       "      <td>0.675690</td>\n",
       "      <td>40.188448</td>\n",
       "      <td>79.447848</td>\n",
       "      <td>78.992986</td>\n",
       "      <td>0.016000</td>\n",
       "      <td>0.074000</td>\n",
       "      <td>55.933520</td>\n",
       "      <td>76.541759</td>\n",
       "      <td>76.702862</td>\n",
       "      <td>55.933520</td>\n",
       "      <td>0.000000</td>\n",
       "    </tr>\n",
       "    <tr>\n",
       "      <td>9000</td>\n",
       "      <td>0.239600</td>\n",
       "      <td>0.192034</td>\n",
       "      <td>0.692253</td>\n",
       "      <td>0.663280</td>\n",
       "      <td>38.706144</td>\n",
       "      <td>77.975090</td>\n",
       "      <td>77.818834</td>\n",
       "      <td>0.018000</td>\n",
       "      <td>0.070000</td>\n",
       "      <td>54.660495</td>\n",
       "      <td>74.711650</td>\n",
       "      <td>75.526671</td>\n",
       "      <td>54.660495</td>\n",
       "      <td>0.000000</td>\n",
       "    </tr>\n",
       "    <tr>\n",
       "      <td>10500</td>\n",
       "      <td>0.232300</td>\n",
       "      <td>0.189942</td>\n",
       "      <td>0.698231</td>\n",
       "      <td>0.668370</td>\n",
       "      <td>39.612476</td>\n",
       "      <td>78.509954</td>\n",
       "      <td>78.391568</td>\n",
       "      <td>0.020000</td>\n",
       "      <td>0.070000</td>\n",
       "      <td>55.340332</td>\n",
       "      <td>75.318089</td>\n",
       "      <td>76.006758</td>\n",
       "      <td>55.340332</td>\n",
       "      <td>0.000000</td>\n",
       "    </tr>\n",
       "    <tr>\n",
       "      <td>12000</td>\n",
       "      <td>0.223500</td>\n",
       "      <td>0.188130</td>\n",
       "      <td>0.708427</td>\n",
       "      <td>0.677887</td>\n",
       "      <td>40.377054</td>\n",
       "      <td>79.319012</td>\n",
       "      <td>78.912846</td>\n",
       "      <td>0.018000</td>\n",
       "      <td>0.068000</td>\n",
       "      <td>56.324069</td>\n",
       "      <td>76.615061</td>\n",
       "      <td>76.490596</td>\n",
       "      <td>56.324069</td>\n",
       "      <td>0.000000</td>\n",
       "    </tr>\n",
       "    <tr>\n",
       "      <td>13500</td>\n",
       "      <td>0.227300</td>\n",
       "      <td>0.189064</td>\n",
       "      <td>0.710056</td>\n",
       "      <td>0.677088</td>\n",
       "      <td>40.880077</td>\n",
       "      <td>79.547460</td>\n",
       "      <td>79.109965</td>\n",
       "      <td>0.018000</td>\n",
       "      <td>0.074000</td>\n",
       "      <td>57.110613</td>\n",
       "      <td>76.909793</td>\n",
       "      <td>76.743633</td>\n",
       "      <td>57.110613</td>\n",
       "      <td>0.000000</td>\n",
       "    </tr>\n",
       "  </tbody>\n",
       "</table><p>"
      ],
      "text/plain": [
       "<IPython.core.display.HTML object>"
      ]
     },
     "metadata": {},
     "output_type": "display_data"
    },
    {
     "data": {
      "text/plain": [
       "TrainOutput(global_step=14248, training_loss=0.4619799005657284, metrics={'train_runtime': 11843.5758, 'train_samples_per_second': 9.622, 'train_steps_per_second': 1.203, 'total_flos': 6.044170070812262e+16, 'train_loss': 0.4619799005657284, 'epoch': 13.0})"
      ]
     },
     "execution_count": 12,
     "metadata": {},
     "output_type": "execute_result"
    }
   ],
   "source": [
    "trainer.train()"
   ]
  },
  {
   "cell_type": "code",
   "execution_count": 13,
   "metadata": {},
   "outputs": [
    {
     "data": {
      "text/plain": [
       "('fredT5-large-trained/tokenizer_config.json',\n",
       " 'fredT5-large-trained/special_tokens_map.json',\n",
       " 'fredT5-large-trained/vocab.json',\n",
       " 'fredT5-large-trained/merges.txt',\n",
       " 'fredT5-large-trained/added_tokens.json',\n",
       " 'fredT5-large-trained/tokenizer.json')"
      ]
     },
     "execution_count": 13,
     "metadata": {},
     "output_type": "execute_result"
    }
   ],
   "source": [
    "output_dir = \"fredT5-large-trained\"\n",
    "model.save_pretrained(output_dir)\n",
    "tokenizer.save_pretrained(output_dir)"
   ]
  },
  {
   "cell_type": "code",
   "execution_count": 12,
   "metadata": {},
   "outputs": [
    {
     "name": "stderr",
     "output_type": "stream",
     "text": [
      "/home/vlad/bralex/.venv/lib/python3.10/site-packages/transformers/generation/configuration_utils.py:588: UserWarning: `num_beams` is set to 1. However, `early_stopping` is set to `True` -- this flag is only used in beam-based generation modes. You should set `num_beams>1` or unset `early_stopping`.\n",
      "  warnings.warn(\n"
     ]
    },
    {
     "data": {
      "text/plain": [
       "{'BEP-sb': 0.7100557283942733,\n",
       " 'BEP-multi': 0.6778037162156486,\n",
       " 'TA-BLEU-sb': 40.88007731124459,\n",
       " 'TA-CHRF-sb': 79.54746004661867,\n",
       " 'TA-CHRF-multi': 79.01507359036316,\n",
       " 'EB-ind': 0.018,\n",
       " 'MB-ind': 0.068,\n",
       " 'BLEU-classic': 57.110613019167744,\n",
       " 'CHRF-classic': 76.90979283859272,\n",
       " 'CHRF-classic-multi': 76.59727547801717,\n",
       " 'bleu_old': 57.110613019167744,\n",
       " 'failed_ratio': 0.0}"
      ]
     },
     "execution_count": 12,
     "metadata": {},
     "output_type": "execute_result"
    }
   ],
   "source": [
    "mc(1)"
   ]
  },
  {
   "cell_type": "code",
   "execution_count": 13,
   "metadata": {},
   "outputs": [],
   "source": [
    "ev = Evaluator(manual_test, model=model, tokenizer=tokenizer, batch_size=4)\n",
    "output = ev.generate_samples_batched()\n",
    "df = pd.DataFrame([{'id': i, 'json': json.dumps(v, indent=4, ensure_ascii=False)} for i, v in output.items()])\n",
    "df.to_csv('manual_test_outputs.csv', index=False)"
   ]
  },
  {
   "cell_type": "code",
   "execution_count": 14,
   "metadata": {},
   "outputs": [],
   "source": [
    "# from transformers import AutoTokenizer, AutoModelForSeq2SeqLM\n",
    "\n",
    "# tokenizer = AutoTokenizer.from_pretrained(output_dir)\n",
    "# model = AutoModelForSeq2SeqLM.from_pretrained(output_dir).to('cuda')"
   ]
  },
  {
   "cell_type": "code",
   "execution_count": 15,
   "metadata": {},
   "outputs": [],
   "source": [
    "# distill_data = pd.read_csv('../data/distill_data.csv', index_col=0)\n",
    "# distill_data.head()"
   ]
  },
  {
   "cell_type": "code",
   "execution_count": 16,
   "metadata": {},
   "outputs": [],
   "source": [
    "# ev = Evaluator(distill_data)\n",
    "# output = ev.generate_samples_batched(count=20000, batch_size=256)"
   ]
  },
  {
   "cell_type": "code",
   "execution_count": null,
   "metadata": {},
   "outputs": [],
   "source": []
  }
 ],
 "metadata": {
  "kernelspec": {
   "display_name": ".venv",
   "language": "python",
   "name": "python3"
  },
  "language_info": {
   "codemirror_mode": {
    "name": "ipython",
    "version": 3
   },
   "file_extension": ".py",
   "mimetype": "text/x-python",
   "name": "python",
   "nbconvert_exporter": "python",
   "pygments_lexer": "ipython3",
   "version": "3.10.14"
  }
 },
 "nbformat": 4,
 "nbformat_minor": 2
}
