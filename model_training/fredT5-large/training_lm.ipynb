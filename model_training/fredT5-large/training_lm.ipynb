{
 "cells": [
  {
   "cell_type": "code",
   "execution_count": 1,
   "metadata": {},
   "outputs": [],
   "source": [
    "import pandas as pd\n",
    "import torch\n",
    "import json\n",
    "import re"
   ]
  },
  {
   "cell_type": "code",
   "execution_count": 2,
   "metadata": {},
   "outputs": [],
   "source": [
    "import sys\n",
    "\n",
    "sys.path.append('../utils')\n",
    "from json_format import process_json, unprocess_json\n",
    "from evaluator import Evaluator"
   ]
  },
  {
   "cell_type": "code",
   "execution_count": 3,
   "metadata": {},
   "outputs": [
    {
     "name": "stderr",
     "output_type": "stream",
     "text": [
      "Special tokens have been added in the vocabulary, make sure the associated word embeddings are fine-tuned or trained.\n"
     ]
    }
   ],
   "source": [
    "# from transformers import AutoTokenizer, AutoModelForSeq2SeqLM\n",
    "\n",
    "# tokenizer = AutoTokenizer.from_pretrained(\"ai-forever/FRED-T5-large\")\n",
    "# model = AutoModelForSeq2SeqLM.from_pretrained(\"ai-forever/FRED-T5-large\")\n",
    "\n",
    "from transformers import GPT2Tokenizer, T5ForConditionalGeneration \n",
    "\n",
    "tokenizer = GPT2Tokenizer.from_pretrained('ai-forever/FRED-T5-large',eos_token='</s>')\n",
    "model = T5ForConditionalGeneration.from_pretrained('ai-forever/FRED-T5-large')\n",
    "# tokenizer = AutoTokenizer.from_pretrained('./fredT5-large-trained')\n",
    "# model = AutoModelForSeq2SeqLM.from_pretrained('./fredT5-large-trained').to('cuda')"
   ]
  },
  {
   "cell_type": "code",
   "execution_count": 4,
   "metadata": {},
   "outputs": [],
   "source": [
    "converters = {'json': json.loads}\n",
    "train = pd.read_csv('../data/train_9k_valid.csv', index_col=0, converters=converters).sample(frac=1, random_state=42)\n",
    "val_set = pd.read_csv('../data/val_set_300_sb_valid.csv', index_col=0, converters=converters).sample(frac=1, random_state=42)\n",
    "manual_test = pd.read_csv('../data/manual_test_100.csv', index_col=0, converters=converters).sample(frac=1, random_state=42)"
   ]
  },
  {
   "cell_type": "code",
   "execution_count": 5,
   "metadata": {},
   "outputs": [],
   "source": [
    "tokenizer.add_tokens([\"<BOB>\", \"<EOB>\", \"<BOT>\", \"<EOT>\", \"<BOP>\", \"<EOP>\", \"<BOC1>\", \"<EOC1>\", \"<BOC2>\", \"<EOC2>\"])\n",
    "model.resize_token_embeddings(len(tokenizer))\n",
    "\n",
    "\n",
    "assert train.loc[train.index[0], 'json'] == unprocess_json(process_json(train.loc[train.index[0], 'json']))"
   ]
  },
  {
   "cell_type": "code",
   "execution_count": 7,
   "metadata": {},
   "outputs": [
    {
     "data": {
      "text/plain": [
       "DatasetDict({\n",
       "    train: Dataset({\n",
       "        features: ['Text', 'json', '__index_level_0__'],\n",
       "        num_rows: 8766\n",
       "    })\n",
       "    test: Dataset({\n",
       "        features: ['Text', 'json', '__index_level_0__'],\n",
       "        num_rows: 45\n",
       "    })\n",
       "})"
      ]
     },
     "execution_count": 7,
     "metadata": {},
     "output_type": "execute_result"
    }
   ],
   "source": [
    "from datasets import Dataset\n",
    "\n",
    "ads_dataset = Dataset.from_pandas(train[[\"Text\", \"json\"]])\n",
    "ads_dataset = ads_dataset.train_test_split(test_size=0.005, seed=42)\n",
    "ads_dataset = ads_dataset.flatten()\n",
    "ads_dataset"
   ]
  },
  {
   "cell_type": "code",
   "execution_count": 8,
   "metadata": {},
   "outputs": [
    {
     "data": {
      "text/plain": [
       "{'bos_token': '<s>',\n",
       " 'eos_token': '</s>',\n",
       " 'unk_token': '<unk>',\n",
       " 'pad_token': '<pad>',\n",
       " 'mask_token': '<mask>'}"
      ]
     },
     "execution_count": 8,
     "metadata": {},
     "output_type": "execute_result"
    }
   ],
   "source": [
    "tokenizer.special_tokens_map"
   ]
  },
  {
   "cell_type": "code",
   "execution_count": 9,
   "metadata": {},
   "outputs": [
    {
     "data": {
      "application/vnd.jupyter.widget-view+json": {
       "model_id": "5af03acd29854d43b4621d214abaed5d",
       "version_major": 2,
       "version_minor": 0
      },
      "text/plain": [
       "Map (num_proc=4):   0%|          | 0/8766 [00:00<?, ? examples/s]"
      ]
     },
     "metadata": {},
     "output_type": "display_data"
    },
    {
     "name": "stderr",
     "output_type": "stream",
     "text": [
      "/home/vlad/bralex/.venv/lib/python3.10/site-packages/transformers/tokenization_utils_base.py:4005: UserWarning: `as_target_tokenizer` is deprecated and will be removed in v5 of Transformers. You can tokenize your labels by using the argument `text_target` of the regular `__call__` method (either in the same call as your input texts if you use the same keyword arguments, or in a separate call.\n",
      "  warnings.warn(\n",
      "/home/vlad/bralex/.venv/lib/python3.10/site-packages/transformers/tokenization_utils_base.py:4005: UserWarning: `as_target_tokenizer` is deprecated and will be removed in v5 of Transformers. You can tokenize your labels by using the argument `text_target` of the regular `__call__` method (either in the same call as your input texts if you use the same keyword arguments, or in a separate call.\n",
      "  warnings.warn(\n",
      "/home/vlad/bralex/.venv/lib/python3.10/site-packages/transformers/tokenization_utils_base.py:4005: UserWarning: `as_target_tokenizer` is deprecated and will be removed in v5 of Transformers. You can tokenize your labels by using the argument `text_target` of the regular `__call__` method (either in the same call as your input texts if you use the same keyword arguments, or in a separate call.\n",
      "  warnings.warn(\n",
      "/home/vlad/bralex/.venv/lib/python3.10/site-packages/transformers/tokenization_utils_base.py:4005: UserWarning: `as_target_tokenizer` is deprecated and will be removed in v5 of Transformers. You can tokenize your labels by using the argument `text_target` of the regular `__call__` method (either in the same call as your input texts if you use the same keyword arguments, or in a separate call.\n",
      "  warnings.warn(\n"
     ]
    },
    {
     "data": {
      "application/vnd.jupyter.widget-view+json": {
       "model_id": "e11a633ffe994d78b8ac12c4f612e850",
       "version_major": 2,
       "version_minor": 0
      },
      "text/plain": [
       "Map (num_proc=4):   0%|          | 0/45 [00:00<?, ? examples/s]"
      ]
     },
     "metadata": {},
     "output_type": "display_data"
    },
    {
     "name": "stderr",
     "output_type": "stream",
     "text": [
      "/home/vlad/bralex/.venv/lib/python3.10/site-packages/transformers/tokenization_utils_base.py:4005: UserWarning: `as_target_tokenizer` is deprecated and will be removed in v5 of Transformers. You can tokenize your labels by using the argument `text_target` of the regular `__call__` method (either in the same call as your input texts if you use the same keyword arguments, or in a separate call.\n",
      "  warnings.warn(\n",
      "/home/vlad/bralex/.venv/lib/python3.10/site-packages/transformers/tokenization_utils_base.py:4005: UserWarning: `as_target_tokenizer` is deprecated and will be removed in v5 of Transformers. You can tokenize your labels by using the argument `text_target` of the regular `__call__` method (either in the same call as your input texts if you use the same keyword arguments, or in a separate call.\n",
      "  warnings.warn(\n",
      "/home/vlad/bralex/.venv/lib/python3.10/site-packages/transformers/tokenization_utils_base.py:4005: UserWarning: `as_target_tokenizer` is deprecated and will be removed in v5 of Transformers. You can tokenize your labels by using the argument `text_target` of the regular `__call__` method (either in the same call as your input texts if you use the same keyword arguments, or in a separate call.\n",
      "  warnings.warn(\n",
      "/home/vlad/bralex/.venv/lib/python3.10/site-packages/transformers/tokenization_utils_base.py:4005: UserWarning: `as_target_tokenizer` is deprecated and will be removed in v5 of Transformers. You can tokenize your labels by using the argument `text_target` of the regular `__call__` method (either in the same call as your input texts if you use the same keyword arguments, or in a separate call.\n",
      "  warnings.warn(\n"
     ]
    }
   ],
   "source": [
    "def preprocess_function(examples):\n",
    "    inputs = ['<LM>' + text for text in examples[\"Text\"]]\n",
    "    targets = ['<LM>' + process_json(bundles) for bundles in examples[\"json\"]]\n",
    "    # model_inputs = tokenizer(inputs, text_target=targets, max_length=256, truncation=True)\n",
    "    # return model_inputs\n",
    "    model_inputs = tokenizer(inputs, max_length=128, truncation=True)\n",
    "\n",
    "    # Tokenize targets\n",
    "    with tokenizer.as_target_tokenizer():\n",
    "        labels = tokenizer(targets, max_length=128, truncation=True)\n",
    "\n",
    "    model_inputs['labels'] = labels['input_ids']\n",
    "    return model_inputs\n",
    "\n",
    "ads = ads_dataset.map(\n",
    "    preprocess_function,\n",
    "    batched=True,\n",
    "    num_proc=4,\n",
    "    remove_columns=ads_dataset[\"train\"].column_names\n",
    ")\n",
    "ads = ads.flatten()"
   ]
  },
  {
   "cell_type": "code",
   "execution_count": 11,
   "metadata": {},
   "outputs": [],
   "source": [
    "from transformers import Seq2SeqTrainingArguments, Seq2SeqTrainer"
   ]
  },
  {
   "cell_type": "code",
   "execution_count": 12,
   "metadata": {},
   "outputs": [],
   "source": [
    "from transformers import DataCollatorForSeq2Seq\n",
    "\n",
    "tokenizer.pad_token = tokenizer.eos_token\n",
    "data_collator = DataCollatorForSeq2Seq(tokenizer=tokenizer)"
   ]
  },
  {
   "cell_type": "code",
   "execution_count": 13,
   "metadata": {},
   "outputs": [],
   "source": [
    "class MetricComputer:\n",
    "  def __init__(self, batch_size=8):\n",
    "    self.batch_size = batch_size\n",
    "    self.generations = []\n",
    "\n",
    "  def __call__(self, eval_preds):\n",
    "    ev = Evaluator(val_set, model=model, tokenizer=tokenizer, batch_size=self.batch_size, seq_tokens=True)\n",
    "    stats = ev.calc_bleu_batched()\n",
    "    self.generations.append(ev.generate_samples_batched(count=20))\n",
    "    # clear_output()\n",
    "    return stats"
   ]
  },
  {
   "cell_type": "code",
   "execution_count": 14,
   "metadata": {},
   "outputs": [
    {
     "name": "stderr",
     "output_type": "stream",
     "text": [
      "/home/vlad/bralex/.venv/lib/python3.10/site-packages/transformers/training_args.py:1493: FutureWarning: `evaluation_strategy` is deprecated and will be removed in version 4.46 of 🤗 Transformers. Use `eval_strategy` instead\n",
      "  warnings.warn(\n"
     ]
    }
   ],
   "source": [
    "n_epochs = 13\n",
    "\n",
    "training_args = Seq2SeqTrainingArguments(\n",
    "  output_dir=\"fredT5-large-checkpoints\",\n",
    "  # overwrite_output_dir=True,\n",
    "  evaluation_strategy=\"steps\",\n",
    "  eval_steps=1500,\n",
    "  learning_rate=4e-5,\n",
    "  per_device_train_batch_size=12,\n",
    "  per_device_eval_batch_size=2,\n",
    "  weight_decay=0.01,\n",
    "  save_total_limit=1,\n",
    "  num_train_epochs=n_epochs,\n",
    "  # predict_with_generate=True,\n",
    "  # generation_max_length=128,\n",
    "  lr_scheduler_type=\"cosine\",\n",
    "  group_by_length=False,\n",
    "  warmup_steps=3,\n",
    "  # fp16=True,\n",
    ")\n",
    "\n",
    "\n",
    "mc = MetricComputer(batch_size=8)\n",
    "empty_dataset = Dataset.from_dict({\"Text\": [], \"json\": []})\n",
    "trainer = Seq2SeqTrainer(\n",
    "  model=model,\n",
    "  args=training_args,\n",
    "  train_dataset=ads[\"train\"],\n",
    "  eval_dataset=ads[\"test\"],\n",
    "  # eval_dataset=empty_dataset,\n",
    "  tokenizer=tokenizer,\n",
    "  data_collator=data_collator,\n",
    "  compute_metrics=mc,\n",
    ")"
   ]
  },
  {
   "cell_type": "code",
   "execution_count": 15,
   "metadata": {},
   "outputs": [
    {
     "data": {
      "text/html": [
       "\n",
       "    <div>\n",
       "      \n",
       "      <progress value='14248' max='14248' style='width:300px; height:20px; vertical-align: middle;'></progress>\n",
       "      [14248/14248 4:26:33, Epoch 13/13]\n",
       "    </div>\n",
       "    <table border=\"1\" class=\"dataframe\">\n",
       "  <thead>\n",
       " <tr style=\"text-align: left;\">\n",
       "      <th>Step</th>\n",
       "      <th>Training Loss</th>\n",
       "      <th>Validation Loss</th>\n",
       "      <th>Bep-sb</th>\n",
       "      <th>Bep-multi</th>\n",
       "      <th>Ta-bleu-sb</th>\n",
       "      <th>Ta-chrf-sb</th>\n",
       "      <th>Ta-chrf-multi</th>\n",
       "      <th>Eb-ind</th>\n",
       "      <th>Mb-ind</th>\n",
       "      <th>Bleu-classic</th>\n",
       "      <th>Chrf-classic</th>\n",
       "      <th>Chrf-classic-multi</th>\n",
       "      <th>Bleu Old</th>\n",
       "      <th>Failed Ratio</th>\n",
       "    </tr>\n",
       "  </thead>\n",
       "  <tbody>\n",
       "    <tr>\n",
       "      <td>1500</td>\n",
       "      <td>0.500600</td>\n",
       "      <td>0.269909</td>\n",
       "      <td>0.597537</td>\n",
       "      <td>0.144344</td>\n",
       "      <td>14.456966</td>\n",
       "      <td>59.753728</td>\n",
       "      <td>67.489076</td>\n",
       "      <td>0.876000</td>\n",
       "      <td>0.102000</td>\n",
       "      <td>8.578952</td>\n",
       "      <td>56.811897</td>\n",
       "      <td>69.183275</td>\n",
       "      <td>8.578952</td>\n",
       "      <td>0.012000</td>\n",
       "    </tr>\n",
       "    <tr>\n",
       "      <td>3000</td>\n",
       "      <td>0.342400</td>\n",
       "      <td>0.225722</td>\n",
       "      <td>0.000000</td>\n",
       "      <td>0.142100</td>\n",
       "      <td>45.703755</td>\n",
       "      <td>75.722859</td>\n",
       "      <td>69.333907</td>\n",
       "      <td>0.908000</td>\n",
       "      <td>0.076000</td>\n",
       "      <td>48.700187</td>\n",
       "      <td>75.826010</td>\n",
       "      <td>69.714772</td>\n",
       "      <td>48.700187</td>\n",
       "      <td>0.000000</td>\n",
       "    </tr>\n",
       "    <tr>\n",
       "      <td>4500</td>\n",
       "      <td>0.295400</td>\n",
       "      <td>0.203776</td>\n",
       "      <td>0.000000</td>\n",
       "      <td>0.149213</td>\n",
       "      <td>36.047425</td>\n",
       "      <td>63.140979</td>\n",
       "      <td>70.734532</td>\n",
       "      <td>0.902000</td>\n",
       "      <td>0.080000</td>\n",
       "      <td>36.082985</td>\n",
       "      <td>57.114130</td>\n",
       "      <td>70.422954</td>\n",
       "      <td>36.082985</td>\n",
       "      <td>0.000000</td>\n",
       "    </tr>\n",
       "    <tr>\n",
       "      <td>6000</td>\n",
       "      <td>0.259400</td>\n",
       "      <td>0.199087</td>\n",
       "      <td>0.489459</td>\n",
       "      <td>0.153360</td>\n",
       "      <td>28.171807</td>\n",
       "      <td>67.653420</td>\n",
       "      <td>70.728134</td>\n",
       "      <td>0.902000</td>\n",
       "      <td>0.078000</td>\n",
       "      <td>22.185013</td>\n",
       "      <td>68.736545</td>\n",
       "      <td>71.097599</td>\n",
       "      <td>22.185013</td>\n",
       "      <td>0.004000</td>\n",
       "    </tr>\n",
       "    <tr>\n",
       "      <td>7500</td>\n",
       "      <td>0.249900</td>\n",
       "      <td>0.192591</td>\n",
       "      <td>0.275156</td>\n",
       "      <td>0.151185</td>\n",
       "      <td>7.533618</td>\n",
       "      <td>41.189925</td>\n",
       "      <td>69.701109</td>\n",
       "      <td>0.904000</td>\n",
       "      <td>0.078000</td>\n",
       "      <td>8.357715</td>\n",
       "      <td>39.685428</td>\n",
       "      <td>69.743792</td>\n",
       "      <td>8.357715</td>\n",
       "      <td>0.000000</td>\n",
       "    </tr>\n",
       "    <tr>\n",
       "      <td>9000</td>\n",
       "      <td>0.234100</td>\n",
       "      <td>0.194644</td>\n",
       "      <td>0.472890</td>\n",
       "      <td>0.155455</td>\n",
       "      <td>27.472111</td>\n",
       "      <td>61.184358</td>\n",
       "      <td>68.286267</td>\n",
       "      <td>0.882000</td>\n",
       "      <td>0.098000</td>\n",
       "      <td>23.787855</td>\n",
       "      <td>59.259756</td>\n",
       "      <td>70.265873</td>\n",
       "      <td>23.787855</td>\n",
       "      <td>0.004000</td>\n",
       "    </tr>\n",
       "    <tr>\n",
       "      <td>10500</td>\n",
       "      <td>0.218000</td>\n",
       "      <td>0.192579</td>\n",
       "      <td>0.184651</td>\n",
       "      <td>0.155700</td>\n",
       "      <td>21.860332</td>\n",
       "      <td>57.987036</td>\n",
       "      <td>69.645914</td>\n",
       "      <td>0.892000</td>\n",
       "      <td>0.092000</td>\n",
       "      <td>15.363595</td>\n",
       "      <td>51.643677</td>\n",
       "      <td>71.362265</td>\n",
       "      <td>15.363595</td>\n",
       "      <td>0.000000</td>\n",
       "    </tr>\n",
       "    <tr>\n",
       "      <td>12000</td>\n",
       "      <td>0.215900</td>\n",
       "      <td>0.191576</td>\n",
       "      <td>0.240481</td>\n",
       "      <td>0.154793</td>\n",
       "      <td>10.667611</td>\n",
       "      <td>45.019882</td>\n",
       "      <td>69.979430</td>\n",
       "      <td>0.896000</td>\n",
       "      <td>0.088000</td>\n",
       "      <td>12.690747</td>\n",
       "      <td>43.410908</td>\n",
       "      <td>71.278226</td>\n",
       "      <td>12.690747</td>\n",
       "      <td>0.000000</td>\n",
       "    </tr>\n",
       "    <tr>\n",
       "      <td>13500</td>\n",
       "      <td>0.210200</td>\n",
       "      <td>0.190970</td>\n",
       "      <td>0.184651</td>\n",
       "      <td>0.154845</td>\n",
       "      <td>40.950765</td>\n",
       "      <td>65.693755</td>\n",
       "      <td>69.956881</td>\n",
       "      <td>0.894000</td>\n",
       "      <td>0.086000</td>\n",
       "      <td>21.328198</td>\n",
       "      <td>60.348279</td>\n",
       "      <td>71.288120</td>\n",
       "      <td>21.328198</td>\n",
       "      <td>0.000000</td>\n",
       "    </tr>\n",
       "  </tbody>\n",
       "</table><p>"
      ],
      "text/plain": [
       "<IPython.core.display.HTML object>"
      ]
     },
     "metadata": {},
     "output_type": "display_data"
    },
    {
     "name": "stderr",
     "output_type": "stream",
     "text": [
      "/home/vlad/bralex/.venv/lib/python3.10/site-packages/transformers/generation/configuration_utils.py:588: UserWarning: `num_beams` is set to 1. However, `early_stopping` is set to `True` -- this flag is only used in beam-based generation modes. You should set `num_beams>1` or unset `early_stopping`.\n",
      "  warnings.warn(\n"
     ]
    },
    {
     "name": "stdout",
     "output_type": "stream",
     "text": [
      " <BOT> Samsung 40inch, не smart, не smart, цена €100 <EOP> <BOC1> 1 <EOC1> <BOC2> EUR <EOC2> \n",
      " <BOT> Мафон пионер с фишкой <EOT> <BOP> 1 <EOC1> <BOC2> RUB <EOC2> \n",
      " <BOT> большая поясная сумка с бутылками <EOT> <BOP> 135 <EOP> <BOC1> 270 гр <EOC2> \n",
      " <BOT> картина маслом 40 на 30 см <EOT> <BOP> 20 <EOP> <BOC1> 40 на 30 см <EOC2> \n",
      " <BOT> кухонные весы кухонные 4 евро <EOT> <BOP> 4 <EOP> <BOC1> кухонные весы кухонные 4 евро <EOT> <BOP> 4 <EOP> <BOC1> кухонные весы кухонные 4 евро <EOC2> \n",
      " <BOT> EUR 2 EUR 2 шт Limaxollar <EOT> <BOP> 2 шт <EOC1> <BOC2> EUR <EOC2> \n"
     ]
    },
    {
     "name": "stderr",
     "output_type": "stream",
     "text": [
      "/home/vlad/bralex/.venv/lib/python3.10/site-packages/transformers/generation/configuration_utils.py:588: UserWarning: `num_beams` is set to 1. However, `early_stopping` is set to `True` -- this flag is only used in beam-based generation modes. You should set `num_beams>1` or unset `early_stopping`.\n",
      "  warnings.warn(\n",
      "/home/vlad/bralex/.venv/lib/python3.10/site-packages/transformers/generation/configuration_utils.py:588: UserWarning: `num_beams` is set to 1. However, `early_stopping` is set to `True` -- this flag is only used in beam-based generation modes. You should set `num_beams>1` or unset `early_stopping`.\n",
      "  warnings.warn(\n",
      "/home/vlad/bralex/.venv/lib/python3.10/site-packages/transformers/generation/configuration_utils.py:588: UserWarning: `num_beams` is set to 1. However, `early_stopping` is set to `True` -- this flag is only used in beam-based generation modes. You should set `num_beams>1` or unset `early_stopping`.\n",
      "  warnings.warn(\n"
     ]
    },
    {
     "name": "stdout",
     "output_type": "stream",
     "text": [
      " <BOT> KUMHO R15 4 колёса лето 4.000₽ <EOP> <BOC1> 1 <EOC1> <BOC2> ₽ <EOC2> \n",
      " <BOT> витамины запечатанные orthomol mental ортомол ментал, срок до 20.02.2024 35eur <EOT> <BOP> витамины запечатанные orthomol mental ортомол ментал <EOT> <BOP> 35EUR <EOC2> \n"
     ]
    },
    {
     "name": "stderr",
     "output_type": "stream",
     "text": [
      "/home/vlad/bralex/.venv/lib/python3.10/site-packages/transformers/generation/configuration_utils.py:588: UserWarning: `num_beams` is set to 1. However, `early_stopping` is set to `True` -- this flag is only used in beam-based generation modes. You should set `num_beams>1` or unset `early_stopping`.\n",
      "  warnings.warn(\n",
      "/home/vlad/bralex/.venv/lib/python3.10/site-packages/transformers/generation/configuration_utils.py:588: UserWarning: `num_beams` is set to 1. However, `early_stopping` is set to `True` -- this flag is only used in beam-based generation modes. You should set `num_beams>1` or unset `early_stopping`.\n",
      "  warnings.warn(\n"
     ]
    },
    {
     "name": "stdout",
     "output_type": "stream",
     "text": [
      " <BOT> KUMHO R15 4 колёса лето 4.000₽ <EOP> <BOC1> 1 <EOC1> <BOC2> RUB <EOC2> \n",
      " <BOT> ортачала <EOT> <BOP> 1 <EOC1> <BOC2> лари <EOC2> \n"
     ]
    },
    {
     "name": "stderr",
     "output_type": "stream",
     "text": [
      "/home/vlad/bralex/.venv/lib/python3.10/site-packages/transformers/generation/configuration_utils.py:588: UserWarning: `num_beams` is set to 1. However, `early_stopping` is set to `True` -- this flag is only used in beam-based generation modes. You should set `num_beams>1` or unset `early_stopping`.\n",
      "  warnings.warn(\n",
      "/home/vlad/bralex/.venv/lib/python3.10/site-packages/transformers/generation/configuration_utils.py:588: UserWarning: `num_beams` is set to 1. However, `early_stopping` is set to `True` -- this flag is only used in beam-based generation modes. You should set `num_beams>1` or unset `early_stopping`.\n",
      "  warnings.warn(\n",
      "/home/vlad/bralex/.venv/lib/python3.10/site-packages/transformers/generation/configuration_utils.py:588: UserWarning: `num_beams` is set to 1. However, `early_stopping` is set to `True` -- this flag is only used in beam-based generation modes. You should set `num_beams>1` or unset `early_stopping`.\n",
      "  warnings.warn(\n"
     ]
    },
    {
     "data": {
      "text/plain": [
       "TrainOutput(global_step=14248, training_loss=0.45023905514733703, metrics={'train_runtime': 15995.2609, 'train_samples_per_second': 7.124, 'train_steps_per_second': 0.891, 'total_flos': 6.023907124995686e+16, 'train_loss': 0.45023905514733703, 'epoch': 13.0})"
      ]
     },
     "execution_count": 15,
     "metadata": {},
     "output_type": "execute_result"
    }
   ],
   "source": [
    "trainer.train()"
   ]
  },
  {
   "cell_type": "code",
   "execution_count": 13,
   "metadata": {},
   "outputs": [
    {
     "data": {
      "text/plain": [
       "('fredT5-large-trained/tokenizer_config.json',\n",
       " 'fredT5-large-trained/special_tokens_map.json',\n",
       " 'fredT5-large-trained/vocab.json',\n",
       " 'fredT5-large-trained/merges.txt',\n",
       " 'fredT5-large-trained/added_tokens.json',\n",
       " 'fredT5-large-trained/tokenizer.json')"
      ]
     },
     "execution_count": 13,
     "metadata": {},
     "output_type": "execute_result"
    }
   ],
   "source": [
    "output_dir = \"fredT5-large-trained\"\n",
    "model.save_pretrained(output_dir)\n",
    "tokenizer.save_pretrained(output_dir)"
   ]
  },
  {
   "cell_type": "code",
   "execution_count": 12,
   "metadata": {},
   "outputs": [
    {
     "name": "stderr",
     "output_type": "stream",
     "text": [
      "/home/vlad/bralex/.venv/lib/python3.10/site-packages/transformers/generation/configuration_utils.py:588: UserWarning: `num_beams` is set to 1. However, `early_stopping` is set to `True` -- this flag is only used in beam-based generation modes. You should set `num_beams>1` or unset `early_stopping`.\n",
      "  warnings.warn(\n"
     ]
    },
    {
     "data": {
      "text/plain": [
       "{'BEP-sb': 0.7100557283942733,\n",
       " 'BEP-multi': 0.6778037162156486,\n",
       " 'TA-BLEU-sb': 40.88007731124459,\n",
       " 'TA-CHRF-sb': 79.54746004661867,\n",
       " 'TA-CHRF-multi': 79.01507359036316,\n",
       " 'EB-ind': 0.018,\n",
       " 'MB-ind': 0.068,\n",
       " 'BLEU-classic': 57.110613019167744,\n",
       " 'CHRF-classic': 76.90979283859272,\n",
       " 'CHRF-classic-multi': 76.59727547801717,\n",
       " 'bleu_old': 57.110613019167744,\n",
       " 'failed_ratio': 0.0}"
      ]
     },
     "execution_count": 12,
     "metadata": {},
     "output_type": "execute_result"
    }
   ],
   "source": [
    "mc(1)"
   ]
  },
  {
   "cell_type": "code",
   "execution_count": 13,
   "metadata": {},
   "outputs": [],
   "source": [
    "ev = Evaluator(manual_test, model=model, tokenizer=tokenizer, batch_size=4)\n",
    "output = ev.generate_samples_batched()\n",
    "df = pd.DataFrame([{'id': i, 'json': json.dumps(v, indent=4, ensure_ascii=False)} for i, v in output.items()])\n",
    "df.to_csv('manual_test_outputs.csv', index=False)"
   ]
  },
  {
   "cell_type": "code",
   "execution_count": 14,
   "metadata": {},
   "outputs": [],
   "source": [
    "# from transformers import AutoTokenizer, AutoModelForSeq2SeqLM\n",
    "\n",
    "# tokenizer = AutoTokenizer.from_pretrained(output_dir)\n",
    "# model = AutoModelForSeq2SeqLM.from_pretrained(output_dir).to('cuda')"
   ]
  },
  {
   "cell_type": "code",
   "execution_count": 15,
   "metadata": {},
   "outputs": [],
   "source": [
    "# distill_data = pd.read_csv('../data/distill_data.csv', index_col=0)\n",
    "# distill_data.head()"
   ]
  },
  {
   "cell_type": "code",
   "execution_count": 16,
   "metadata": {},
   "outputs": [],
   "source": [
    "# ev = Evaluator(distill_data)\n",
    "# output = ev.generate_samples_batched(count=20000, batch_size=256)"
   ]
  },
  {
   "cell_type": "code",
   "execution_count": null,
   "metadata": {},
   "outputs": [],
   "source": []
  }
 ],
 "metadata": {
  "kernelspec": {
   "display_name": ".venv",
   "language": "python",
   "name": "python3"
  },
  "language_info": {
   "codemirror_mode": {
    "name": "ipython",
    "version": 3
   },
   "file_extension": ".py",
   "mimetype": "text/x-python",
   "name": "python",
   "nbconvert_exporter": "python",
   "pygments_lexer": "ipython3",
   "version": "3.10.14"
  }
 },
 "nbformat": 4,
 "nbformat_minor": 2
}
