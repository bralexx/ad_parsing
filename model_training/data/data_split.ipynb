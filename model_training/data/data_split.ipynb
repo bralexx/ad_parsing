{
 "cells": [
  {
   "cell_type": "code",
   "execution_count": 1,
   "metadata": {},
   "outputs": [],
   "source": [
    "import pandas as pd\n",
    "import numpy as np\n",
    "import json"
   ]
  },
  {
   "cell_type": "code",
   "execution_count": 2,
   "metadata": {},
   "outputs": [],
   "source": [
    "df = pd.read_csv('../labeled_15k.csv')\n",
    "df['json'] = pd.Series([[{'Title': row.Title, 'Price': row.Price, 'Currency': row.Currency, 'Count': row.Count}] for row in df.itertuples()])\n",
    "df = df[['Text', 'Title', 'Price', 'Currency', 'Count', 'Label_gpt', 'json']].reset_index(drop=True)\n",
    "text_df = df[['Text', 'json', 'Label_gpt']].groupby('Text').agg({\n",
    "  'json': 'sum',\n",
    "  'Label_gpt': lambda x: 'invalid' if any(x == 'invalid') else 'valid'\n",
    "}).reset_index()"
   ]
  },
  {
   "cell_type": "code",
   "execution_count": 4,
   "metadata": {},
   "outputs": [
    {
     "data": {
      "text/plain": [
       "16098"
      ]
     },
     "execution_count": 4,
     "metadata": {},
     "output_type": "execute_result"
    }
   ],
   "source": [
    "(df.Label_gpt == 'valid').sum()"
   ]
  },
  {
   "cell_type": "code",
   "execution_count": 3,
   "metadata": {},
   "outputs": [
    {
     "data": {
      "text/html": [
       "<div>\n",
       "<style scoped>\n",
       "    .dataframe tbody tr th:only-of-type {\n",
       "        vertical-align: middle;\n",
       "    }\n",
       "\n",
       "    .dataframe tbody tr th {\n",
       "        vertical-align: top;\n",
       "    }\n",
       "\n",
       "    .dataframe thead th {\n",
       "        text-align: right;\n",
       "    }\n",
       "</style>\n",
       "<table border=\"1\" class=\"dataframe\">\n",
       "  <thead>\n",
       "    <tr style=\"text-align: right;\">\n",
       "      <th></th>\n",
       "      <th>Text</th>\n",
       "      <th>json</th>\n",
       "      <th>Label_gpt</th>\n",
       "    </tr>\n",
       "  </thead>\n",
       "  <tbody>\n",
       "    <tr>\n",
       "      <th>0</th>\n",
       "      <td>! новая. хлопковая рубашка оверсайз с приятной...</td>\n",
       "      <td>[{'Title': 'хлопковая рубашка оверсайз', 'Pric...</td>\n",
       "      <td>valid</td>\n",
       "    </tr>\n",
       "    <tr>\n",
       "      <th>1</th>\n",
       "      <td>!!! ПОМИДОРКИ !!! в 3л Банке.... по 250 руб. К...</td>\n",
       "      <td>[{'Title': 'Икра КРАСНАЯ 140 гр. банка', 'Pric...</td>\n",
       "      <td>valid</td>\n",
       "    </tr>\n",
       "    <tr>\n",
       "      <th>2</th>\n",
       "      <td>\"конфетный мячик\" 🍬🏀 цена €7😻 бесплатная доста...</td>\n",
       "      <td>[{'Title': 'конфетный мячик', 'Price': '7', 'C...</td>\n",
       "      <td>valid</td>\n",
       "    </tr>\n",
       "    <tr>\n",
       "      <th>3</th>\n",
       "      <td># ТРИКО Распродажа без выбораМОДЕЛЬ ТКАНЬ ТРИК...</td>\n",
       "      <td>[{'Title': 'Трико двух нитки качества супер', ...</td>\n",
       "      <td>invalid</td>\n",
       "    </tr>\n",
       "    <tr>\n",
       "      <th>4</th>\n",
       "      <td># ТРИКО Распродажа без выбораМОДЕЛЬ ТКАНЬ ТРИК...</td>\n",
       "      <td>[{'Title': 'Трико, двух нитки качества супер',...</td>\n",
       "      <td>valid</td>\n",
       "    </tr>\n",
       "    <tr>\n",
       "      <th>...</th>\n",
       "      <td>...</td>\n",
       "      <td>...</td>\n",
       "      <td>...</td>\n",
       "    </tr>\n",
       "    <tr>\n",
       "      <th>12031</th>\n",
       "      <td>🧚‍♂️🧚‍♂️🧚‍♂️🧚‍♂️🧚‍♂️🧚‍♂️🧚‍♂️🧚‍♂️🧚‍♂️🧚‍♂️🧚‍♂️🧚‍...</td>\n",
       "      <td>[{'Title': 'Подушки пух перо размер 50Х70', 'P...</td>\n",
       "      <td>valid</td>\n",
       "    </tr>\n",
       "    <tr>\n",
       "      <th>12032</th>\n",
       "      <td>🧚‍♂️🧚‍♂️🧚‍♂️🧚‍♂️🧚‍♂️🧚‍♂️🧚‍♂️🧚‍♂️🧚‍♂️🧚‍♂️🧚‍♂️🧚‍...</td>\n",
       "      <td>[{'Title': 'Подушки пух перо размер 70Х70', 'P...</td>\n",
       "      <td>valid</td>\n",
       "    </tr>\n",
       "    <tr>\n",
       "      <th>12033</th>\n",
       "      <td>🧨 продам кастомный системный блок!\\nуникальнос...</td>\n",
       "      <td>[{'Title': 'Кастомный системный блок', 'Price'...</td>\n",
       "      <td>valid</td>\n",
       "    </tr>\n",
       "    <tr>\n",
       "      <th>12034</th>\n",
       "      <td>🪄кофта. true religion. надевала 1-2 раза. разм...</td>\n",
       "      <td>[{'Title': 'кофта True Religion, укороченная, ...</td>\n",
       "      <td>valid</td>\n",
       "    </tr>\n",
       "    <tr>\n",
       "      <th>12035</th>\n",
       "      <td>🪒 игровая мышь razer deathadder v2 pro 🐁 \\n\\nu...</td>\n",
       "      <td>[{'Title': 'Игровая мышь Razer DeathAdder V2 P...</td>\n",
       "      <td>valid</td>\n",
       "    </tr>\n",
       "  </tbody>\n",
       "</table>\n",
       "<p>12036 rows × 3 columns</p>\n",
       "</div>"
      ],
      "text/plain": [
       "                                                    Text  \\\n",
       "0      ! новая. хлопковая рубашка оверсайз с приятной...   \n",
       "1      !!! ПОМИДОРКИ !!! в 3л Банке.... по 250 руб. К...   \n",
       "2      \"конфетный мячик\" 🍬🏀 цена €7😻 бесплатная доста...   \n",
       "3      # ТРИКО Распродажа без выбораМОДЕЛЬ ТКАНЬ ТРИК...   \n",
       "4      # ТРИКО Распродажа без выбораМОДЕЛЬ ТКАНЬ ТРИК...   \n",
       "...                                                  ...   \n",
       "12031  🧚‍♂️🧚‍♂️🧚‍♂️🧚‍♂️🧚‍♂️🧚‍♂️🧚‍♂️🧚‍♂️🧚‍♂️🧚‍♂️🧚‍♂️🧚‍...   \n",
       "12032  🧚‍♂️🧚‍♂️🧚‍♂️🧚‍♂️🧚‍♂️🧚‍♂️🧚‍♂️🧚‍♂️🧚‍♂️🧚‍♂️🧚‍♂️🧚‍...   \n",
       "12033  🧨 продам кастомный системный блок!\\nуникальнос...   \n",
       "12034  🪄кофта. true religion. надевала 1-2 раза. разм...   \n",
       "12035  🪒 игровая мышь razer deathadder v2 pro 🐁 \\n\\nu...   \n",
       "\n",
       "                                                    json Label_gpt  \n",
       "0      [{'Title': 'хлопковая рубашка оверсайз', 'Pric...     valid  \n",
       "1      [{'Title': 'Икра КРАСНАЯ 140 гр. банка', 'Pric...     valid  \n",
       "2      [{'Title': 'конфетный мячик', 'Price': '7', 'C...     valid  \n",
       "3      [{'Title': 'Трико двух нитки качества супер', ...   invalid  \n",
       "4      [{'Title': 'Трико, двух нитки качества супер',...     valid  \n",
       "...                                                  ...       ...  \n",
       "12031  [{'Title': 'Подушки пух перо размер 50Х70', 'P...     valid  \n",
       "12032  [{'Title': 'Подушки пух перо размер 70Х70', 'P...     valid  \n",
       "12033  [{'Title': 'Кастомный системный блок', 'Price'...     valid  \n",
       "12034  [{'Title': 'кофта True Religion, укороченная, ...     valid  \n",
       "12035  [{'Title': 'Игровая мышь Razer DeathAdder V2 P...     valid  \n",
       "\n",
       "[12036 rows x 3 columns]"
      ]
     },
     "execution_count": 3,
     "metadata": {},
     "output_type": "execute_result"
    }
   ],
   "source": [
    "text_df"
   ]
  },
  {
   "cell_type": "code",
   "execution_count": 4,
   "metadata": {},
   "outputs": [
    {
     "data": {
      "text/plain": [
       "(100, 500, 8811)"
      ]
     },
     "execution_count": 4,
     "metadata": {},
     "output_type": "execute_result"
    }
   ],
   "source": [
    "np.random.seed(42)\n",
    "\n",
    "\n",
    "manual_test_index = np.random.choice(text_df.index, size=100, replace=False)\n",
    "manual_test_mask = np.zeros(text_df.shape[0], dtype=bool)\n",
    "manual_test_mask[manual_test_index] = True\n",
    "\n",
    "valid_mask = text_df.Label_gpt == 'valid'\n",
    "train_val_mask = ~manual_test_mask & valid_mask\n",
    "\n",
    "text_df['n_bundle'] = text_df.json.apply(len)\n",
    "single_bundle_mask = text_df.n_bundle == 1\n",
    "\n",
    "val_set_index = np.random.choice(text_df[train_val_mask].index, size=500, replace=False)\n",
    "val_set_mask = np.zeros(text_df.shape[0], dtype=bool)\n",
    "val_set_mask[val_set_index] = True\n",
    "\n",
    "text_df.json = text_df.json.apply(json.dumps)\n",
    "df_manual_test = text_df[manual_test_mask]\n",
    "df_val_set = text_df[val_set_mask]\n",
    "df_train = text_df[train_val_mask & ~val_set_mask]\n",
    "\n",
    "len(df_manual_test), len(df_val_set), len(df_train)"
   ]
  },
  {
   "cell_type": "code",
   "execution_count": 5,
   "metadata": {},
   "outputs": [],
   "source": [
    "df_manual_test.to_csv('manual_test_100.csv')\n",
    "df_val_set.to_csv('val_set_300_sb_valid.csv')\n",
    "df_train.to_csv('train_9k_valid.csv')"
   ]
  },
  {
   "cell_type": "code",
   "execution_count": null,
   "metadata": {},
   "outputs": [],
   "source": []
  }
 ],
 "metadata": {
  "kernelspec": {
   "display_name": ".venv",
   "language": "python",
   "name": "python3"
  },
  "language_info": {
   "codemirror_mode": {
    "name": "ipython",
    "version": 3
   },
   "file_extension": ".py",
   "mimetype": "text/x-python",
   "name": "python",
   "nbconvert_exporter": "python",
   "pygments_lexer": "ipython3",
   "version": "3.10.14"
  }
 },
 "nbformat": 4,
 "nbformat_minor": 2
}
