{
 "cells": [
  {
   "cell_type": "code",
   "execution_count": 1,
   "metadata": {},
   "outputs": [],
   "source": [
    "import pandas as pd\n",
    "import json"
   ]
  },
  {
   "cell_type": "code",
   "execution_count": 2,
   "metadata": {},
   "outputs": [],
   "source": [
    "converters = {'json': json.loads}\n",
    "train = pd.read_csv('../data/train_9k_valid.csv', index_col=0, converters=converters).sample(frac=1, random_state=42)\n",
    "val_set = pd.read_csv('../data/val_set_300_sb_valid.csv', index_col=0, converters=converters).sample(frac=1, random_state=42)\n",
    "manual_test = pd.read_csv('../data/manual_test_100.csv', index_col=0, converters=converters).sample(frac=1, random_state=42)"
   ]
  },
  {
   "cell_type": "code",
   "execution_count": 28,
   "metadata": {},
   "outputs": [],
   "source": [
    "import re\n",
    "import json\n",
    "\n",
    "class SepTokenJSONProcessor:\n",
    "  spec_tokens = [\"<B>\", \"<T>\", \"<P>\", \"<C1>\", \"<C2>\"]\n",
    "  def process_json(self, json):\n",
    "    return ''.join([f\"<B><T>{d['Title']}<P>{d['Price']}<C1>{d['Count']}<C2>{d['Currency']}\" for d in json])\n",
    "\n",
    "  def unprocess_json(self, s):\n",
    "    json = []\n",
    "    for t in s.split('<B>')[1:]:\n",
    "      try:\n",
    "        json.append({\n",
    "          'Title': re.findall(r'<T>(.*?)(<(B|P|C1|C2)>|$)', t)[0][0],\n",
    "          'Price': re.findall(r'<P>(.*?)(<(T|B|C1|C2)>|$)', t)[0][0],\n",
    "          'Count': re.findall(r'<C1>(.*?)(<(T|B|P|C2)>|$)', t)[0][0],\n",
    "          'Currency': re.findall(r'<C2>(.*?)(<(T|B|P|C1)>|$)', t)[0][0]\n",
    "        })\n",
    "      except Exception as e:\n",
    "        print(t)\n",
    "        raise e\n",
    "    return json"
   ]
  },
  {
   "cell_type": "code",
   "execution_count": 29,
   "metadata": {},
   "outputs": [],
   "source": [
    "proc = SepTokenJSONProcessor()\n",
    "assert train.loc[train.index[0], 'json'] == proc.unprocess_json(proc.process_json(train.loc[train.index[0], 'json']))"
   ]
  },
  {
   "cell_type": "code",
   "execution_count": 31,
   "metadata": {},
   "outputs": [
    {
     "data": {
      "text/plain": [
       "[{'Title': ' столик-подставка',\n",
       "  'Price': ' 50',\n",
       "  'Count': ' 1',\n",
       "  'Currency': ' лари'},\n",
       " {'Title': ' столик-подставка',\n",
       "  'Price': ' 50',\n",
       "  'Count': ' 1',\n",
       "  'Currency': ' лари'}]"
      ]
     },
     "execution_count": 31,
     "metadata": {},
     "output_type": "execute_result"
    }
   ],
   "source": [
    "s = '<B><T> столик-подставка<P> 50<C1> 1<C2> лари<B><T> столик-подставка<P> 50<C1> 1<C2> лари'\n",
    "proc.unprocess_json(s)"
   ]
  },
  {
   "cell_type": "code",
   "execution_count": 13,
   "metadata": {},
   "outputs": [],
   "source": [
    "import re\n",
    "import json\n",
    "\n",
    "class TextJSONProcessor:\n",
    "  spec_tokens = []\n",
    "  def process_json(self, json):\n",
    "    return 'Продается: ' + ';'.join([f\"{d['Title']} в количестве {d['Count']}, цена {d['Price']} ({d['Currency']})\" for d in json])\n",
    "\n",
    "  def unprocess_json(self, s):\n",
    "    json = []\n",
    "    if s.startswith('Продается: '):\n",
    "      s = s[11:]\n",
    "    for t in s.split(';'):\n",
    "      try:\n",
    "        json.append({\n",
    "          'Title': re.findall(r'(.*?) в количестве ', t)[0],\n",
    "          'Count': re.findall(r' в количестве (.*?), цена ', t)[0],\n",
    "          'Price': re.findall(r', цена (.*?) \\(', t)[0],\n",
    "          'Currency': re.findall(r', цена [^()]*\\((.*?)\\)(;|$)', t)[0][0]\n",
    "        })\n",
    "      except Exception as e:\n",
    "        print(t)\n",
    "        raise e\n",
    "    return json"
   ]
  },
  {
   "cell_type": "code",
   "execution_count": 14,
   "metadata": {},
   "outputs": [],
   "source": [
    "proc = TextJSONProcessor()\n",
    "assert train.loc[train.index[0], 'json'] == proc.unprocess_json(proc.process_json(train.loc[train.index[0], 'json']))"
   ]
  },
  {
   "cell_type": "code",
   "execution_count": 46,
   "metadata": {},
   "outputs": [],
   "source": [
    "s = proc.process_json(train.loc[train.index[0], 'json'])"
   ]
  },
  {
   "cell_type": "code",
   "execution_count": 49,
   "metadata": {},
   "outputs": [
    {
     "data": {
      "text/plain": [
       "['RUB']"
      ]
     },
     "execution_count": 49,
     "metadata": {},
     "output_type": "execute_result"
    }
   ],
   "source": [
    "re.findall(r', цена .*\\((.*?)\\)', s.split('\\n')[1])"
   ]
  },
  {
   "cell_type": "code",
   "execution_count": 48,
   "metadata": {},
   "outputs": [
    {
     "data": {
      "text/plain": [
       "'Свёкла кормовая в количестве 1 мешок, цена 250 (RUB)'"
      ]
     },
     "execution_count": 48,
     "metadata": {},
     "output_type": "execute_result"
    }
   ],
   "source": [
    "s.split('\\n')[1]"
   ]
  },
  {
   "cell_type": "code",
   "execution_count": null,
   "metadata": {},
   "outputs": [],
   "source": []
  }
 ],
 "metadata": {
  "kernelspec": {
   "display_name": ".venv",
   "language": "python",
   "name": "python3"
  },
  "language_info": {
   "codemirror_mode": {
    "name": "ipython",
    "version": 3
   },
   "file_extension": ".py",
   "mimetype": "text/x-python",
   "name": "python",
   "nbconvert_exporter": "python",
   "pygments_lexer": "ipython3",
   "version": "3.10.14"
  }
 },
 "nbformat": 4,
 "nbformat_minor": 2
}
