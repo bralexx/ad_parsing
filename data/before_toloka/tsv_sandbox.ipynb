{
 "cells": [
  {
   "cell_type": "code",
   "execution_count": 1,
   "metadata": {},
   "outputs": [],
   "source": [
    "import pandas as pd\n",
    "import pickle as pkl\n",
    "from collections import Counter\n",
    "import numpy as np"
   ]
  },
  {
   "cell_type": "code",
   "execution_count": 2,
   "metadata": {},
   "outputs": [],
   "source": [
    "import os\n",
    "os.chdir('../..')"
   ]
  },
  {
   "cell_type": "code",
   "execution_count": 3,
   "metadata": {},
   "outputs": [],
   "source": [
    "parsed = pd.read_pickle('cache/final_vk_1500.pkl')"
   ]
  },
  {
   "cell_type": "code",
   "execution_count": 4,
   "metadata": {},
   "outputs": [
    {
     "data": {
      "text/html": [
       "<div>\n",
       "<style scoped>\n",
       "    .dataframe tbody tr th:only-of-type {\n",
       "        vertical-align: middle;\n",
       "    }\n",
       "\n",
       "    .dataframe tbody tr th {\n",
       "        vertical-align: top;\n",
       "    }\n",
       "\n",
       "    .dataframe thead th {\n",
       "        text-align: right;\n",
       "    }\n",
       "</style>\n",
       "<table border=\"1\" class=\"dataframe\">\n",
       "  <thead>\n",
       "    <tr style=\"text-align: right;\">\n",
       "      <th></th>\n",
       "      <th>INPUT:headline</th>\n",
       "      <th>GOLDEN:result</th>\n",
       "      <th>HINT:text</th>\n",
       "    </tr>\n",
       "  </thead>\n",
       "  <tbody>\n",
       "    <tr>\n",
       "      <th>0</th>\n",
       "      <td>Use this instead of butter to maked your grill...</td>\n",
       "      <td>yes</td>\n",
       "      <td>NaN</td>\n",
       "    </tr>\n",
       "    <tr>\n",
       "      <th>1</th>\n",
       "      <td>Notting Hill carnival partners with Glastonbur...</td>\n",
       "      <td>no</td>\n",
       "      <td>NaN</td>\n",
       "    </tr>\n",
       "    <tr>\n",
       "      <th>2</th>\n",
       "      <td>The seven best films to watch on TV this week</td>\n",
       "      <td>no</td>\n",
       "      <td>NaN</td>\n",
       "    </tr>\n",
       "    <tr>\n",
       "      <th>3</th>\n",
       "      <td>Someone has noticed something very wrong with ...</td>\n",
       "      <td>yes</td>\n",
       "      <td>NaN</td>\n",
       "    </tr>\n",
       "    <tr>\n",
       "      <th>4</th>\n",
       "      <td>John Smith's real name isn't actually John, an...</td>\n",
       "      <td>yes</td>\n",
       "      <td>NaN</td>\n",
       "    </tr>\n",
       "    <tr>\n",
       "      <th>5</th>\n",
       "      <td>People are doing something seriously weird wit...</td>\n",
       "      <td>yes</td>\n",
       "      <td>NaN</td>\n",
       "    </tr>\n",
       "    <tr>\n",
       "      <th>6</th>\n",
       "      <td>A school girl gave her lunch to a homeless man...</td>\n",
       "      <td>NaN</td>\n",
       "      <td>NaN</td>\n",
       "    </tr>\n",
       "    <tr>\n",
       "      <th>7</th>\n",
       "      <td>Vanessa started drinking two glasses of bitter...</td>\n",
       "      <td>NaN</td>\n",
       "      <td>NaN</td>\n",
       "    </tr>\n",
       "    <tr>\n",
       "      <th>8</th>\n",
       "      <td>Hubble Captures Magnificent Grand Spiral Galax...</td>\n",
       "      <td>NaN</td>\n",
       "      <td>NaN</td>\n",
       "    </tr>\n",
       "    <tr>\n",
       "      <th>9</th>\n",
       "      <td>Only the people with an IQ above 160 can solve...</td>\n",
       "      <td>NaN</td>\n",
       "      <td>NaN</td>\n",
       "    </tr>\n",
       "    <tr>\n",
       "      <th>10</th>\n",
       "      <td>Easy tips for starting your first organic garden</td>\n",
       "      <td>NaN</td>\n",
       "      <td>NaN</td>\n",
       "    </tr>\n",
       "    <tr>\n",
       "      <th>11</th>\n",
       "      <td>You'll be SHOCKED by how shredded his ABS are ...</td>\n",
       "      <td>NaN</td>\n",
       "      <td>NaN</td>\n",
       "    </tr>\n",
       "    <tr>\n",
       "      <th>12</th>\n",
       "      <td>Playtime Engineering debuts two new music make...</td>\n",
       "      <td>NaN</td>\n",
       "      <td>NaN</td>\n",
       "    </tr>\n",
       "    <tr>\n",
       "      <th>13</th>\n",
       "      <td>This guy ate nothing but Chipotle for 186 days...</td>\n",
       "      <td>NaN</td>\n",
       "      <td>NaN</td>\n",
       "    </tr>\n",
       "    <tr>\n",
       "      <th>14</th>\n",
       "      <td>The moneymaking secret that banks don't want y...</td>\n",
       "      <td>NaN</td>\n",
       "      <td>NaN</td>\n",
       "    </tr>\n",
       "    <tr>\n",
       "      <th>15</th>\n",
       "      <td>These 10 impossible pet rescue stories will me...</td>\n",
       "      <td>NaN</td>\n",
       "      <td>NaN</td>\n",
       "    </tr>\n",
       "    <tr>\n",
       "      <th>16</th>\n",
       "      <td>Engineers invent the world's smallest remote-c...</td>\n",
       "      <td>NaN</td>\n",
       "      <td>NaN</td>\n",
       "    </tr>\n",
       "    <tr>\n",
       "      <th>17</th>\n",
       "      <td>Vulnerable North Ireland households to receive...</td>\n",
       "      <td>NaN</td>\n",
       "      <td>NaN</td>\n",
       "    </tr>\n",
       "    <tr>\n",
       "      <th>18</th>\n",
       "      <td>London and southern England hit by torrential ...</td>\n",
       "      <td>NaN</td>\n",
       "      <td>NaN</td>\n",
       "    </tr>\n",
       "    <tr>\n",
       "      <th>19</th>\n",
       "      <td>Google Chrome just launched its best feature i...</td>\n",
       "      <td>NaN</td>\n",
       "      <td>NaN</td>\n",
       "    </tr>\n",
       "  </tbody>\n",
       "</table>\n",
       "</div>"
      ],
      "text/plain": [
       "                                       INPUT:headline GOLDEN:result  HINT:text\n",
       "0   Use this instead of butter to maked your grill...           yes        NaN\n",
       "1   Notting Hill carnival partners with Glastonbur...            no        NaN\n",
       "2       The seven best films to watch on TV this week            no        NaN\n",
       "3   Someone has noticed something very wrong with ...           yes        NaN\n",
       "4   John Smith's real name isn't actually John, an...           yes        NaN\n",
       "5   People are doing something seriously weird wit...           yes        NaN\n",
       "6   A school girl gave her lunch to a homeless man...           NaN        NaN\n",
       "7   Vanessa started drinking two glasses of bitter...           NaN        NaN\n",
       "8   Hubble Captures Magnificent Grand Spiral Galax...           NaN        NaN\n",
       "9   Only the people with an IQ above 160 can solve...           NaN        NaN\n",
       "10   Easy tips for starting your first organic garden           NaN        NaN\n",
       "11  You'll be SHOCKED by how shredded his ABS are ...           NaN        NaN\n",
       "12  Playtime Engineering debuts two new music make...           NaN        NaN\n",
       "13  This guy ate nothing but Chipotle for 186 days...           NaN        NaN\n",
       "14  The moneymaking secret that banks don't want y...           NaN        NaN\n",
       "15  These 10 impossible pet rescue stories will me...           NaN        NaN\n",
       "16  Engineers invent the world's smallest remote-c...           NaN        NaN\n",
       "17  Vulnerable North Ireland households to receive...           NaN        NaN\n",
       "18  London and southern England hit by torrential ...           NaN        NaN\n",
       "19  Google Chrome just launched its best feature i...           NaN        NaN"
      ]
     },
     "execution_count": 4,
     "metadata": {},
     "output_type": "execute_result"
    }
   ],
   "source": [
    "tsv_example = pd.read_csv('cache/example_clickbait.tsv', sep='\\t')\n",
    "tsv_example"
   ]
  },
  {
   "cell_type": "code",
   "execution_count": 5,
   "metadata": {},
   "outputs": [
    {
     "data": {
      "text/plain": [
       "[{'name': 'Сережки', 'price': 60, 'currency': 'рубли', 'count': 1}]"
      ]
     },
     "execution_count": 5,
     "metadata": {},
     "output_type": "execute_result"
    }
   ],
   "source": [
    "parsed.iloc[0]['json']['products']"
   ]
  },
  {
   "cell_type": "code",
   "execution_count": 6,
   "metadata": {},
   "outputs": [
    {
     "data": {
      "text/html": [
       "<div>\n",
       "<style scoped>\n",
       "    .dataframe tbody tr th:only-of-type {\n",
       "        vertical-align: middle;\n",
       "    }\n",
       "\n",
       "    .dataframe tbody tr th {\n",
       "        vertical-align: top;\n",
       "    }\n",
       "\n",
       "    .dataframe thead th {\n",
       "        text-align: right;\n",
       "    }\n",
       "</style>\n",
       "<table border=\"1\" class=\"dataframe\">\n",
       "  <thead>\n",
       "    <tr style=\"text-align: right;\">\n",
       "      <th></th>\n",
       "      <th>text</th>\n",
       "      <th>product</th>\n",
       "    </tr>\n",
       "  </thead>\n",
       "  <tbody>\n",
       "    <tr>\n",
       "      <th>0</th>\n",
       "      <td>Распродажа \\nСережки \\nЦена: 60р\\nУпк от 10шт ...</td>\n",
       "      <td>{'name': 'Сережки', 'price': 60, 'currency': '...</td>\n",
       "    </tr>\n",
       "    <tr>\n",
       "      <th>1</th>\n",
       "      <td>Распродажа \\nЦена: 150р \\nЦена уп 5×140р\\nРазм...</td>\n",
       "      <td>{'name': 'Распродажа', 'price': 150, 'currency...</td>\n",
       "    </tr>\n",
       "    <tr>\n",
       "      <th>2</th>\n",
       "      <td>Распродажа \\nЦена: 150р \\nЦена уп 5×140р\\nРазм...</td>\n",
       "      <td>{'name': 'Распродажа', 'price': 140, 'currency...</td>\n",
       "    </tr>\n",
       "    <tr>\n",
       "      <th>3</th>\n",
       "      <td>Распродажа\\nРост:86-92-98-104-110-116\\nЦена: 5...</td>\n",
       "      <td>{'name': '1-5-20 корпус А', 'price': 50, 'curr...</td>\n",
       "    </tr>\n",
       "    <tr>\n",
       "      <th>4</th>\n",
       "      <td>Распродажа \\nКрюч \\nЦена:35р\\nАрт:9-46</td>\n",
       "      <td>{'name': 'Крюч', 'price': 35, 'currency': 'руб...</td>\n",
       "    </tr>\n",
       "    <tr>\n",
       "      <th>...</th>\n",
       "      <td>...</td>\n",
       "      <td>...</td>\n",
       "    </tr>\n",
       "    <tr>\n",
       "      <th>3906</th>\n",
       "      <td>Распродажа\\nНабор канцелярский в стакане \"МУЛЬ...</td>\n",
       "      <td>{'name': 'ластик', 'price': None, 'currency': ...</td>\n",
       "    </tr>\n",
       "    <tr>\n",
       "      <th>3907</th>\n",
       "      <td>Распродажа\\nНабор канцелярский в стакане \"МУЛЬ...</td>\n",
       "      <td>{'name': 'точилка', 'price': None, 'currency':...</td>\n",
       "    </tr>\n",
       "    <tr>\n",
       "      <th>3908</th>\n",
       "      <td>Распродажа\\nНаволочки\\nЦена: 70р\\nЦена упк: 20...</td>\n",
       "      <td>{'name': 'Наволочка', 'price': 70, 'currency':...</td>\n",
       "    </tr>\n",
       "    <tr>\n",
       "      <th>3909</th>\n",
       "      <td>Распродажа\\nНаволочки\\nЦена: 70р\\nЦена упк: 20...</td>\n",
       "      <td>{'name': 'Наволочка', 'price': 60, 'currency':...</td>\n",
       "    </tr>\n",
       "    <tr>\n",
       "      <th>3910</th>\n",
       "      <td>Распродажа\\nЦена : 50р\\nТкань:  хлопок \\nРазме...</td>\n",
       "      <td>{'name': 'Ткань хлопок', 'price': 50, 'currenc...</td>\n",
       "    </tr>\n",
       "  </tbody>\n",
       "</table>\n",
       "<p>3911 rows × 2 columns</p>\n",
       "</div>"
      ],
      "text/plain": [
       "                                                   text  \\\n",
       "0     Распродажа \\nСережки \\nЦена: 60р\\nУпк от 10шт ...   \n",
       "1     Распродажа \\nЦена: 150р \\nЦена уп 5×140р\\nРазм...   \n",
       "2     Распродажа \\nЦена: 150р \\nЦена уп 5×140р\\nРазм...   \n",
       "3     Распродажа\\nРост:86-92-98-104-110-116\\nЦена: 5...   \n",
       "4                Распродажа \\nКрюч \\nЦена:35р\\nАрт:9-46   \n",
       "...                                                 ...   \n",
       "3906  Распродажа\\nНабор канцелярский в стакане \"МУЛЬ...   \n",
       "3907  Распродажа\\nНабор канцелярский в стакане \"МУЛЬ...   \n",
       "3908  Распродажа\\nНаволочки\\nЦена: 70р\\nЦена упк: 20...   \n",
       "3909  Распродажа\\nНаволочки\\nЦена: 70р\\nЦена упк: 20...   \n",
       "3910  Распродажа\\nЦена : 50р\\nТкань:  хлопок \\nРазме...   \n",
       "\n",
       "                                                product  \n",
       "0     {'name': 'Сережки', 'price': 60, 'currency': '...  \n",
       "1     {'name': 'Распродажа', 'price': 150, 'currency...  \n",
       "2     {'name': 'Распродажа', 'price': 140, 'currency...  \n",
       "3     {'name': '1-5-20 корпус А', 'price': 50, 'curr...  \n",
       "4     {'name': 'Крюч', 'price': 35, 'currency': 'руб...  \n",
       "...                                                 ...  \n",
       "3906  {'name': 'ластик', 'price': None, 'currency': ...  \n",
       "3907  {'name': 'точилка', 'price': None, 'currency':...  \n",
       "3908  {'name': 'Наволочка', 'price': 70, 'currency':...  \n",
       "3909  {'name': 'Наволочка', 'price': 60, 'currency':...  \n",
       "3910  {'name': 'Ткань хлопок', 'price': 50, 'currenc...  \n",
       "\n",
       "[3911 rows x 2 columns]"
      ]
     },
     "execution_count": 6,
     "metadata": {},
     "output_type": "execute_result"
    }
   ],
   "source": [
    "tasks = pd.DataFrame([{'text':row[1]['text'], 'product':product} for row in parsed.iterrows() for product in row[1]['json']['products']])\n",
    "tasks"
   ]
  },
  {
   "cell_type": "code",
   "execution_count": 7,
   "metadata": {},
   "outputs": [
    {
     "data": {
      "text/plain": [
       "Counter({int: 3558, None: 197, NoneType: 109, str: 46, float: 1})"
      ]
     },
     "execution_count": 7,
     "metadata": {},
     "output_type": "execute_result"
    }
   ],
   "source": [
    "attr = 'count'\n",
    "attr_type = [type(obj[attr]) if attr in obj else None for obj in tasks['product'].values]\n",
    "Counter(attr_type)"
   ]
  },
  {
   "cell_type": "code",
   "execution_count": 8,
   "metadata": {},
   "outputs": [],
   "source": [
    "tasks = tasks[[len(obj['name']) != 0 for obj in tasks['product'].values]]"
   ]
  },
  {
   "cell_type": "code",
   "execution_count": 9,
   "metadata": {},
   "outputs": [
    {
     "name": "stderr",
     "output_type": "stream",
     "text": [
      "/tmp/ipykernel_169309/646972466.py:1: SettingWithCopyWarning: \n",
      "A value is trying to be set on a copy of a slice from a DataFrame.\n",
      "Try using .loc[row_indexer,col_indexer] = value instead\n",
      "\n",
      "See the caveats in the documentation: https://pandas.pydata.org/pandas-docs/stable/user_guide/indexing.html#returning-a-view-versus-a-copy\n",
      "  tasks.loc[:,'product_name'] = [obj['name'] for obj in tasks['product'].values]\n"
     ]
    }
   ],
   "source": [
    "tasks.loc[:,'product_name'] = [obj['name'] for obj in tasks['product'].values]"
   ]
  },
  {
   "cell_type": "code",
   "execution_count": 10,
   "metadata": {},
   "outputs": [
    {
     "data": {
      "text/plain": [
       "{'name': 'Gonyosoma boulengeri', 'price': '3.4 СВ20'}"
      ]
     },
     "execution_count": 10,
     "metadata": {},
     "output_type": "execute_result"
    }
   ],
   "source": [
    "tasks[[(type(obj['price']) if 'price' in obj else None) == str for obj in tasks['product']]]['product'].values[4]\n",
    "# Counter([type(obj['price']) if 'price' in obj else None for obj in tasks['product']])"
   ]
  },
  {
   "cell_type": "code",
   "execution_count": 11,
   "metadata": {},
   "outputs": [],
   "source": [
    "mask = [('price' in obj) and obj['price'] is not None for obj in tasks['product'].values]\n",
    "tasks = tasks[mask]"
   ]
  },
  {
   "cell_type": "code",
   "execution_count": 12,
   "metadata": {},
   "outputs": [],
   "source": [
    "def price_handler(product):\n",
    "  price = product['price']\n",
    "  if type(price) not in [int, float]:\n",
    "    try:\n",
    "      price = int(price)\n",
    "    except:\n",
    "      price = None\n",
    "  return str(price)\n",
    "tasks.loc[:, ['product_price']] = tasks['product'].apply(price_handler)"
   ]
  },
  {
   "cell_type": "code",
   "execution_count": 13,
   "metadata": {},
   "outputs": [],
   "source": [
    "tasks = tasks[~tasks.product_price.isna()]"
   ]
  },
  {
   "cell_type": "code",
   "execution_count": 14,
   "metadata": {},
   "outputs": [
    {
     "data": {
      "text/html": [
       "<div>\n",
       "<style scoped>\n",
       "    .dataframe tbody tr th:only-of-type {\n",
       "        vertical-align: middle;\n",
       "    }\n",
       "\n",
       "    .dataframe tbody tr th {\n",
       "        vertical-align: top;\n",
       "    }\n",
       "\n",
       "    .dataframe thead th {\n",
       "        text-align: right;\n",
       "    }\n",
       "</style>\n",
       "<table border=\"1\" class=\"dataframe\">\n",
       "  <thead>\n",
       "    <tr style=\"text-align: right;\">\n",
       "      <th></th>\n",
       "      <th>text</th>\n",
       "      <th>product</th>\n",
       "      <th>product_name</th>\n",
       "      <th>product_price</th>\n",
       "    </tr>\n",
       "  </thead>\n",
       "  <tbody>\n",
       "    <tr>\n",
       "      <th>0</th>\n",
       "      <td>Распродажа \\nСережки \\nЦена: 60р\\nУпк от 10шт ...</td>\n",
       "      <td>{'name': 'Сережки', 'price': 60, 'currency': '...</td>\n",
       "      <td>Сережки</td>\n",
       "      <td>60</td>\n",
       "    </tr>\n",
       "    <tr>\n",
       "      <th>1</th>\n",
       "      <td>Распродажа \\nЦена: 150р \\nЦена уп 5×140р\\nРазм...</td>\n",
       "      <td>{'name': 'Распродажа', 'price': 150, 'currency...</td>\n",
       "      <td>Распродажа</td>\n",
       "      <td>150</td>\n",
       "    </tr>\n",
       "    <tr>\n",
       "      <th>2</th>\n",
       "      <td>Распродажа \\nЦена: 150р \\nЦена уп 5×140р\\nРазм...</td>\n",
       "      <td>{'name': 'Распродажа', 'price': 140, 'currency...</td>\n",
       "      <td>Распродажа</td>\n",
       "      <td>140</td>\n",
       "    </tr>\n",
       "    <tr>\n",
       "      <th>3</th>\n",
       "      <td>Распродажа\\nРост:86-92-98-104-110-116\\nЦена: 5...</td>\n",
       "      <td>{'name': '1-5-20 корпус А', 'price': 50, 'curr...</td>\n",
       "      <td>1-5-20 корпус А</td>\n",
       "      <td>50</td>\n",
       "    </tr>\n",
       "    <tr>\n",
       "      <th>4</th>\n",
       "      <td>Распродажа \\nКрюч \\nЦена:35р\\nАрт:9-46</td>\n",
       "      <td>{'name': 'Крюч', 'price': 35, 'currency': 'руб...</td>\n",
       "      <td>Крюч</td>\n",
       "      <td>35</td>\n",
       "    </tr>\n",
       "    <tr>\n",
       "      <th>...</th>\n",
       "      <td>...</td>\n",
       "      <td>...</td>\n",
       "      <td>...</td>\n",
       "      <td>...</td>\n",
       "    </tr>\n",
       "    <tr>\n",
       "      <th>3901</th>\n",
       "      <td>Распродажа \\nКофточка Водолазки\\nТкань: шерсть...</td>\n",
       "      <td>{'name': 'Кофточка Водолазки', 'price': 300, '...</td>\n",
       "      <td>Кофточка Водолазки</td>\n",
       "      <td>300</td>\n",
       "    </tr>\n",
       "    <tr>\n",
       "      <th>3902</th>\n",
       "      <td>Распродажа\\nНабор канцелярский в стакане \"МУЛЬ...</td>\n",
       "      <td>{'name': 'набор канцелярский в стакане МУЛЬТЯШ...</td>\n",
       "      <td>набор канцелярский в стакане МУЛЬТЯШКИ</td>\n",
       "      <td>100</td>\n",
       "    </tr>\n",
       "    <tr>\n",
       "      <th>3908</th>\n",
       "      <td>Распродажа\\nНаволочки\\nЦена: 70р\\nЦена упк: 20...</td>\n",
       "      <td>{'name': 'Наволочка', 'price': 70, 'currency':...</td>\n",
       "      <td>Наволочка</td>\n",
       "      <td>70</td>\n",
       "    </tr>\n",
       "    <tr>\n",
       "      <th>3909</th>\n",
       "      <td>Распродажа\\nНаволочки\\nЦена: 70р\\nЦена упк: 20...</td>\n",
       "      <td>{'name': 'Наволочка', 'price': 60, 'currency':...</td>\n",
       "      <td>Наволочка</td>\n",
       "      <td>60</td>\n",
       "    </tr>\n",
       "    <tr>\n",
       "      <th>3910</th>\n",
       "      <td>Распродажа\\nЦена : 50р\\nТкань:  хлопок \\nРазме...</td>\n",
       "      <td>{'name': 'Ткань хлопок', 'price': 50, 'currenc...</td>\n",
       "      <td>Ткань хлопок</td>\n",
       "      <td>50</td>\n",
       "    </tr>\n",
       "  </tbody>\n",
       "</table>\n",
       "<p>3816 rows × 4 columns</p>\n",
       "</div>"
      ],
      "text/plain": [
       "                                                   text  \\\n",
       "0     Распродажа \\nСережки \\nЦена: 60р\\nУпк от 10шт ...   \n",
       "1     Распродажа \\nЦена: 150р \\nЦена уп 5×140р\\nРазм...   \n",
       "2     Распродажа \\nЦена: 150р \\nЦена уп 5×140р\\nРазм...   \n",
       "3     Распродажа\\nРост:86-92-98-104-110-116\\nЦена: 5...   \n",
       "4                Распродажа \\nКрюч \\nЦена:35р\\nАрт:9-46   \n",
       "...                                                 ...   \n",
       "3901  Распродажа \\nКофточка Водолазки\\nТкань: шерсть...   \n",
       "3902  Распродажа\\nНабор канцелярский в стакане \"МУЛЬ...   \n",
       "3908  Распродажа\\nНаволочки\\nЦена: 70р\\nЦена упк: 20...   \n",
       "3909  Распродажа\\nНаволочки\\nЦена: 70р\\nЦена упк: 20...   \n",
       "3910  Распродажа\\nЦена : 50р\\nТкань:  хлопок \\nРазме...   \n",
       "\n",
       "                                                product  \\\n",
       "0     {'name': 'Сережки', 'price': 60, 'currency': '...   \n",
       "1     {'name': 'Распродажа', 'price': 150, 'currency...   \n",
       "2     {'name': 'Распродажа', 'price': 140, 'currency...   \n",
       "3     {'name': '1-5-20 корпус А', 'price': 50, 'curr...   \n",
       "4     {'name': 'Крюч', 'price': 35, 'currency': 'руб...   \n",
       "...                                                 ...   \n",
       "3901  {'name': 'Кофточка Водолазки', 'price': 300, '...   \n",
       "3902  {'name': 'набор канцелярский в стакане МУЛЬТЯШ...   \n",
       "3908  {'name': 'Наволочка', 'price': 70, 'currency':...   \n",
       "3909  {'name': 'Наволочка', 'price': 60, 'currency':...   \n",
       "3910  {'name': 'Ткань хлопок', 'price': 50, 'currenc...   \n",
       "\n",
       "                                product_name product_price  \n",
       "0                                    Сережки            60  \n",
       "1                                 Распродажа           150  \n",
       "2                                 Распродажа           140  \n",
       "3                            1-5-20 корпус А            50  \n",
       "4                                       Крюч            35  \n",
       "...                                      ...           ...  \n",
       "3901                      Кофточка Водолазки           300  \n",
       "3902  набор канцелярский в стакане МУЛЬТЯШКИ           100  \n",
       "3908                               Наволочка            70  \n",
       "3909                               Наволочка            60  \n",
       "3910                            Ткань хлопок            50  \n",
       "\n",
       "[3816 rows x 4 columns]"
      ]
     },
     "execution_count": 14,
     "metadata": {},
     "output_type": "execute_result"
    }
   ],
   "source": [
    "tasks"
   ]
  },
  {
   "cell_type": "code",
   "execution_count": 28,
   "metadata": {},
   "outputs": [
    {
     "name": "stderr",
     "output_type": "stream",
     "text": [
      "/tmp/ipykernel_169309/3940525848.py:9: SettingWithCopyWarning: \n",
      "A value is trying to be set on a copy of a slice from a DataFrame.\n",
      "Try using .loc[row_indexer,col_indexer] = value instead\n",
      "\n",
      "See the caveats in the documentation: https://pandas.pydata.org/pandas-docs/stable/user_guide/indexing.html#returning-a-view-versus-a-copy\n",
      "  tasks['product_currency'] = tasks['product'].apply(currency_handler)\n"
     ]
    }
   ],
   "source": [
    "def currency_handler(product):\n",
    "  currency = None\n",
    "  if currency in product:\n",
    "    currency = product['currency']\n",
    "  if currency in ['рубли', '₽', None]:\n",
    "    currency = 'RUB'\n",
    "  return currency\n",
    "\n",
    "tasks['product_currency'] = tasks['product'].apply(currency_handler)"
   ]
  },
  {
   "cell_type": "code",
   "execution_count": 29,
   "metadata": {},
   "outputs": [
    {
     "name": "stderr",
     "output_type": "stream",
     "text": [
      "/tmp/ipykernel_169309/734486376.py:9: SettingWithCopyWarning: \n",
      "A value is trying to be set on a copy of a slice from a DataFrame.\n",
      "Try using .loc[row_indexer,col_indexer] = value instead\n",
      "\n",
      "See the caveats in the documentation: https://pandas.pydata.org/pandas-docs/stable/user_guide/indexing.html#returning-a-view-versus-a-copy\n",
      "  tasks['product_count'] = tasks['product'].apply(count_handler).values\n"
     ]
    }
   ],
   "source": [
    "def count_handler(product):\n",
    "  count = None\n",
    "  if 'count' in product:\n",
    "    count = product['count']\n",
    "  if '' == count:\n",
    "    count = None\n",
    "  return count\n",
    "\n",
    "tasks['product_count'] = tasks['product'].apply(count_handler).values\n",
    "tasks = tasks[~tasks['product_count'].isna()]"
   ]
  },
  {
   "cell_type": "code",
   "execution_count": 80,
   "metadata": {},
   "outputs": [],
   "source": [
    "import json"
   ]
  },
  {
   "cell_type": "code",
   "execution_count": 81,
   "metadata": {},
   "outputs": [],
   "source": [
    "tasks['product'] = tasks['product'].apply(lambda x: json.dumps(x))"
   ]
  },
  {
   "cell_type": "code",
   "execution_count": 91,
   "metadata": {},
   "outputs": [
    {
     "data": {
      "text/plain": [
       "3502"
      ]
     },
     "execution_count": 91,
     "metadata": {},
     "output_type": "execute_result"
    }
   ],
   "source": [
    "len(tasks.drop_duplicates())"
   ]
  },
  {
   "cell_type": "code",
   "execution_count": 17,
   "metadata": {},
   "outputs": [],
   "source": [
    "tsv_tasks = tasks.drop(columns=['product'])"
   ]
  },
  {
   "cell_type": "code",
   "execution_count": 19,
   "metadata": {},
   "outputs": [],
   "source": [
    "tsv_tasks = tsv_tasks.add_prefix('INPUT:')"
   ]
  },
  {
   "cell_type": "code",
   "execution_count": 20,
   "metadata": {},
   "outputs": [
    {
     "data": {
      "text/html": [
       "<div>\n",
       "<style scoped>\n",
       "    .dataframe tbody tr th:only-of-type {\n",
       "        vertical-align: middle;\n",
       "    }\n",
       "\n",
       "    .dataframe tbody tr th {\n",
       "        vertical-align: top;\n",
       "    }\n",
       "\n",
       "    .dataframe thead th {\n",
       "        text-align: right;\n",
       "    }\n",
       "</style>\n",
       "<table border=\"1\" class=\"dataframe\">\n",
       "  <thead>\n",
       "    <tr style=\"text-align: right;\">\n",
       "      <th></th>\n",
       "      <th>INPUT:headline</th>\n",
       "      <th>GOLDEN:result</th>\n",
       "      <th>HINT:text</th>\n",
       "    </tr>\n",
       "  </thead>\n",
       "  <tbody>\n",
       "    <tr>\n",
       "      <th>0</th>\n",
       "      <td>Use this instead of butter to maked your grill...</td>\n",
       "      <td>yes</td>\n",
       "      <td>NaN</td>\n",
       "    </tr>\n",
       "    <tr>\n",
       "      <th>1</th>\n",
       "      <td>Notting Hill carnival partners with Glastonbur...</td>\n",
       "      <td>no</td>\n",
       "      <td>NaN</td>\n",
       "    </tr>\n",
       "    <tr>\n",
       "      <th>2</th>\n",
       "      <td>The seven best films to watch on TV this week</td>\n",
       "      <td>no</td>\n",
       "      <td>NaN</td>\n",
       "    </tr>\n",
       "    <tr>\n",
       "      <th>3</th>\n",
       "      <td>Someone has noticed something very wrong with ...</td>\n",
       "      <td>yes</td>\n",
       "      <td>NaN</td>\n",
       "    </tr>\n",
       "    <tr>\n",
       "      <th>4</th>\n",
       "      <td>John Smith's real name isn't actually John, an...</td>\n",
       "      <td>yes</td>\n",
       "      <td>NaN</td>\n",
       "    </tr>\n",
       "    <tr>\n",
       "      <th>5</th>\n",
       "      <td>People are doing something seriously weird wit...</td>\n",
       "      <td>yes</td>\n",
       "      <td>NaN</td>\n",
       "    </tr>\n",
       "    <tr>\n",
       "      <th>6</th>\n",
       "      <td>A school girl gave her lunch to a homeless man...</td>\n",
       "      <td>NaN</td>\n",
       "      <td>NaN</td>\n",
       "    </tr>\n",
       "    <tr>\n",
       "      <th>7</th>\n",
       "      <td>Vanessa started drinking two glasses of bitter...</td>\n",
       "      <td>NaN</td>\n",
       "      <td>NaN</td>\n",
       "    </tr>\n",
       "    <tr>\n",
       "      <th>8</th>\n",
       "      <td>Hubble Captures Magnificent Grand Spiral Galax...</td>\n",
       "      <td>NaN</td>\n",
       "      <td>NaN</td>\n",
       "    </tr>\n",
       "    <tr>\n",
       "      <th>9</th>\n",
       "      <td>Only the people with an IQ above 160 can solve...</td>\n",
       "      <td>NaN</td>\n",
       "      <td>NaN</td>\n",
       "    </tr>\n",
       "    <tr>\n",
       "      <th>10</th>\n",
       "      <td>Easy tips for starting your first organic garden</td>\n",
       "      <td>NaN</td>\n",
       "      <td>NaN</td>\n",
       "    </tr>\n",
       "    <tr>\n",
       "      <th>11</th>\n",
       "      <td>You'll be SHOCKED by how shredded his ABS are ...</td>\n",
       "      <td>NaN</td>\n",
       "      <td>NaN</td>\n",
       "    </tr>\n",
       "    <tr>\n",
       "      <th>12</th>\n",
       "      <td>Playtime Engineering debuts two new music make...</td>\n",
       "      <td>NaN</td>\n",
       "      <td>NaN</td>\n",
       "    </tr>\n",
       "    <tr>\n",
       "      <th>13</th>\n",
       "      <td>This guy ate nothing but Chipotle for 186 days...</td>\n",
       "      <td>NaN</td>\n",
       "      <td>NaN</td>\n",
       "    </tr>\n",
       "    <tr>\n",
       "      <th>14</th>\n",
       "      <td>The moneymaking secret that banks don't want y...</td>\n",
       "      <td>NaN</td>\n",
       "      <td>NaN</td>\n",
       "    </tr>\n",
       "    <tr>\n",
       "      <th>15</th>\n",
       "      <td>These 10 impossible pet rescue stories will me...</td>\n",
       "      <td>NaN</td>\n",
       "      <td>NaN</td>\n",
       "    </tr>\n",
       "    <tr>\n",
       "      <th>16</th>\n",
       "      <td>Engineers invent the world's smallest remote-c...</td>\n",
       "      <td>NaN</td>\n",
       "      <td>NaN</td>\n",
       "    </tr>\n",
       "    <tr>\n",
       "      <th>17</th>\n",
       "      <td>Vulnerable North Ireland households to receive...</td>\n",
       "      <td>NaN</td>\n",
       "      <td>NaN</td>\n",
       "    </tr>\n",
       "    <tr>\n",
       "      <th>18</th>\n",
       "      <td>London and southern England hit by torrential ...</td>\n",
       "      <td>NaN</td>\n",
       "      <td>NaN</td>\n",
       "    </tr>\n",
       "    <tr>\n",
       "      <th>19</th>\n",
       "      <td>Google Chrome just launched its best feature i...</td>\n",
       "      <td>NaN</td>\n",
       "      <td>NaN</td>\n",
       "    </tr>\n",
       "  </tbody>\n",
       "</table>\n",
       "</div>"
      ],
      "text/plain": [
       "                                       INPUT:headline GOLDEN:result  HINT:text\n",
       "0   Use this instead of butter to maked your grill...           yes        NaN\n",
       "1   Notting Hill carnival partners with Glastonbur...            no        NaN\n",
       "2       The seven best films to watch on TV this week            no        NaN\n",
       "3   Someone has noticed something very wrong with ...           yes        NaN\n",
       "4   John Smith's real name isn't actually John, an...           yes        NaN\n",
       "5   People are doing something seriously weird wit...           yes        NaN\n",
       "6   A school girl gave her lunch to a homeless man...           NaN        NaN\n",
       "7   Vanessa started drinking two glasses of bitter...           NaN        NaN\n",
       "8   Hubble Captures Magnificent Grand Spiral Galax...           NaN        NaN\n",
       "9   Only the people with an IQ above 160 can solve...           NaN        NaN\n",
       "10   Easy tips for starting your first organic garden           NaN        NaN\n",
       "11  You'll be SHOCKED by how shredded his ABS are ...           NaN        NaN\n",
       "12  Playtime Engineering debuts two new music make...           NaN        NaN\n",
       "13  This guy ate nothing but Chipotle for 186 days...           NaN        NaN\n",
       "14  The moneymaking secret that banks don't want y...           NaN        NaN\n",
       "15  These 10 impossible pet rescue stories will me...           NaN        NaN\n",
       "16  Engineers invent the world's smallest remote-c...           NaN        NaN\n",
       "17  Vulnerable North Ireland households to receive...           NaN        NaN\n",
       "18  London and southern England hit by torrential ...           NaN        NaN\n",
       "19  Google Chrome just launched its best feature i...           NaN        NaN"
      ]
     },
     "execution_count": 20,
     "metadata": {},
     "output_type": "execute_result"
    }
   ],
   "source": [
    "tsv_example"
   ]
  },
  {
   "cell_type": "code",
   "execution_count": 20,
   "metadata": {},
   "outputs": [],
   "source": [
    "tsv_tasks.to_csv('cache/vk_toloka.tsv', sep='\\t', index=False)"
   ]
  },
  {
   "cell_type": "code",
   "execution_count": null,
   "metadata": {},
   "outputs": [],
   "source": []
  },
  {
   "cell_type": "code",
   "execution_count": 57,
   "metadata": {},
   "outputs": [],
   "source": [
    "import json"
   ]
  },
  {
   "cell_type": "code",
   "execution_count": 71,
   "metadata": {},
   "outputs": [
    {
     "data": {
      "text/plain": [
       "0       {'name': 'Сережки', 'price': 60, 'currency': '...\n",
       "1       {'name': 'Распродажа', 'price': 150, 'currency...\n",
       "2       {'name': 'Распродажа', 'price': 140, 'currency...\n",
       "4       {'name': 'Крюч', 'price': 35, 'currency': 'руб...\n",
       "5       {'name': 'Распродажа', 'price': 300, 'currency...\n",
       "                              ...                        \n",
       "3901    {'name': 'Кофточка Водолазки', 'price': 300, '...\n",
       "3902    {'name': 'набор канцелярский в стакане МУЛЬТЯШ...\n",
       "3908    {'name': 'Наволочка', 'price': 70, 'currency':...\n",
       "3909    {'name': 'Наволочка', 'price': 60, 'currency':...\n",
       "3910    {'name': 'Ткань хлопок', 'price': 50, 'currenc...\n",
       "Name: product, Length: 3544, dtype: object"
      ]
     },
     "execution_count": 71,
     "metadata": {},
     "output_type": "execute_result"
    }
   ],
   "source": [
    "tasks['product']"
   ]
  },
  {
   "cell_type": "code",
   "execution_count": 86,
   "metadata": {},
   "outputs": [],
   "source": [
    "ls = [(row[0], json.dumps(prod), json.dumps({k:v for k,v in prod.items() if k in ['name', 'price', 'currency', 'count']})) for row in parsed.values for prod in row[2]['products']]"
   ]
  },
  {
   "cell_type": "code",
   "execution_count": 87,
   "metadata": {},
   "outputs": [],
   "source": [
    "count = 0\n",
    "for i, l1 in enumerate(ls):\n",
    "  for j, l2 in enumerate(ls):\n",
    "    if l1 == l2:\n",
    "      continue\n",
    "    if (l1[0] == l2[0]) and (l1[1] == l2[1]):\n",
    "      print(i, j)"
   ]
  },
  {
   "cell_type": "code",
   "execution_count": 97,
   "metadata": {},
   "outputs": [],
   "source": [
    "bad_text = tsv_tasks[tsv_tasks.duplicated()].values[0][0]"
   ]
  },
  {
   "cell_type": "code",
   "execution_count": 103,
   "metadata": {},
   "outputs": [
    {
     "data": {
      "text/plain": [
       "{'place': '',\n",
       " 'products': [{'name': 'Распродажа',\n",
       "   'price': 100,\n",
       "   'currency': 'рубли',\n",
       "   'size': '42',\n",
       "   'count': 1},\n",
       "  {'name': 'Распродажа',\n",
       "   'price': 100,\n",
       "   'currency': 'рубли',\n",
       "   'size': '44',\n",
       "   'count': 1},\n",
       "  {'name': 'Распродажа',\n",
       "   'price': 100,\n",
       "   'currency': 'рубли',\n",
       "   'size': '46',\n",
       "   'count': 1},\n",
       "  {'name': 'Распродажа',\n",
       "   'price': 100,\n",
       "   'currency': 'рубли',\n",
       "   'size': '48',\n",
       "   'count': 1},\n",
       "  {'name': 'Распродажа',\n",
       "   'price': 100,\n",
       "   'currency': 'рубли',\n",
       "   'size': '50',\n",
       "   'count': 1},\n",
       "  {'name': 'Распродажа',\n",
       "   'price': 100,\n",
       "   'currency': 'рубли',\n",
       "   'size': '52',\n",
       "   'count': 1}]}"
      ]
     },
     "execution_count": 103,
     "metadata": {},
     "output_type": "execute_result"
    }
   ],
   "source": [
    "parsed[parsed.text == bad_text].json.values[0]"
   ]
  },
  {
   "cell_type": "code",
   "execution_count": null,
   "metadata": {},
   "outputs": [],
   "source": []
  }
 ],
 "metadata": {
  "kernelspec": {
   "display_name": "Python 3",
   "language": "python",
   "name": "python3"
  },
  "language_info": {
   "codemirror_mode": {
    "name": "ipython",
    "version": 3
   },
   "file_extension": ".py",
   "mimetype": "text/x-python",
   "name": "python",
   "nbconvert_exporter": "python",
   "pygments_lexer": "ipython3",
   "version": "3.11.6"
  }
 },
 "nbformat": 4,
 "nbformat_minor": 2
}
