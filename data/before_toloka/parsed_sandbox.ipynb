{
 "cells": [
  {
   "cell_type": "code",
   "execution_count": 2,
   "metadata": {},
   "outputs": [],
   "source": [
    "import os\n",
    "os.chdir('..')"
   ]
  },
  {
   "cell_type": "code",
   "execution_count": 3,
   "metadata": {},
   "outputs": [],
   "source": [
    "import pandas as pd\n",
    "import pickle as pkl\n",
    "import matplotlib.pyplot as plt\n",
    "import numpy as np"
   ]
  },
  {
   "cell_type": "code",
   "execution_count": 4,
   "metadata": {},
   "outputs": [],
   "source": [
    "with open('cache/json_dump.pkl', 'rb') as f:\n",
    "  parsed = pkl.load(f)"
   ]
  },
  {
   "cell_type": "code",
   "execution_count": 5,
   "metadata": {},
   "outputs": [],
   "source": [
    "with open('cache/vk_filtered_1500.pkl', 'rb') as f:\n",
    "  df = pkl.load(f)"
   ]
  },
  {
   "cell_type": "code",
   "execution_count": 6,
   "metadata": {},
   "outputs": [],
   "source": [
    "df['json'] = pd.Series(parsed.values(), index=parsed.keys())"
   ]
  },
  {
   "cell_type": "code",
   "execution_count": 7,
   "metadata": {},
   "outputs": [
    {
     "data": {
      "text/html": [
       "<div>\n",
       "<style scoped>\n",
       "    .dataframe tbody tr th:only-of-type {\n",
       "        vertical-align: middle;\n",
       "    }\n",
       "\n",
       "    .dataframe tbody tr th {\n",
       "        vertical-align: top;\n",
       "    }\n",
       "\n",
       "    .dataframe thead th {\n",
       "        text-align: right;\n",
       "    }\n",
       "</style>\n",
       "<table border=\"1\" class=\"dataframe\">\n",
       "  <thead>\n",
       "    <tr style=\"text-align: right;\">\n",
       "      <th></th>\n",
       "      <th>text</th>\n",
       "      <th>index_info</th>\n",
       "      <th>json</th>\n",
       "    </tr>\n",
       "  </thead>\n",
       "  <tbody>\n",
       "    <tr>\n",
       "      <th>48116</th>\n",
       "      <td>Распродажа \\nСережки \\nЦена: 60р\\nУпк от 10шт ...</td>\n",
       "      <td>{\"vk_wall_id\": -206817857, \"vk_post_id\": 75889}</td>\n",
       "      <td>{'products': [{'name': 'Сережки', 'price': 60,...</td>\n",
       "    </tr>\n",
       "    <tr>\n",
       "      <th>98375</th>\n",
       "      <td>Распродажа \\nЦена: 150р \\nЦена уп 5×140р\\nРазм...</td>\n",
       "      <td>{\"vk_wall_id\": -203393330, \"vk_post_id\": 103913}</td>\n",
       "      <td>{'place': 'https://vk.com/ylstore3001', 'produ...</td>\n",
       "    </tr>\n",
       "    <tr>\n",
       "      <th>48348</th>\n",
       "      <td>Распродажа\\nРост:86-92-98-104-110-116\\nЦена: 5...</td>\n",
       "      <td>{\"vk_wall_id\": -206817857, \"vk_post_id\": 76318}</td>\n",
       "      <td>{'place': '', 'products': [{'name': '1-5-20 ко...</td>\n",
       "    </tr>\n",
       "    <tr>\n",
       "      <th>104934</th>\n",
       "      <td>Распродажа \\nКрюч \\nЦена:35р\\nАрт:9-46</td>\n",
       "      <td>{\"vk_wall_id\": -203393330, \"vk_post_id\": 116860}</td>\n",
       "      <td>{'place': '', 'products': [{'name': 'Крюч', 'p...</td>\n",
       "    </tr>\n",
       "    <tr>\n",
       "      <th>10099</th>\n",
       "      <td>Распродажа\\nЦена: 300р\\nТкань: кожа двухнитка\\...</td>\n",
       "      <td>{\"vk_wall_id\": -209013890, \"vk_post_id\": 53366}</td>\n",
       "      <td>{'place': 'null', 'products': [{'name': 'Распр...</td>\n",
       "    </tr>\n",
       "    <tr>\n",
       "      <th>...</th>\n",
       "      <td>...</td>\n",
       "      <td>...</td>\n",
       "      <td>...</td>\n",
       "    </tr>\n",
       "    <tr>\n",
       "      <th>109287</th>\n",
       "      <td>Распродажа\\nЦена: 50р\\nРазмер: 86-92.92-98. 98...</td>\n",
       "      <td>{\"vk_wall_id\": -203393330, \"vk_post_id\": 125493}</td>\n",
       "      <td>NaN</td>\n",
       "    </tr>\n",
       "    <tr>\n",
       "      <th>44659</th>\n",
       "      <td>Распродажа \\nКофточка Водолазки\\nТкань: шерсть...</td>\n",
       "      <td>{\"vk_wall_id\": -206817857, \"vk_post_id\": 69518}</td>\n",
       "      <td>{'place': '', 'products': [{'name': 'Кофточка ...</td>\n",
       "    </tr>\n",
       "    <tr>\n",
       "      <th>106707</th>\n",
       "      <td>Распродажа\\nНабор канцелярский в стакане \"МУЛЬ...</td>\n",
       "      <td>{\"vk_wall_id\": -203393330, \"vk_post_id\": 120526}</td>\n",
       "      <td>{'place': 'уточнить', 'products': [{'name': 'н...</td>\n",
       "    </tr>\n",
       "    <tr>\n",
       "      <th>84485</th>\n",
       "      <td>Распродажа\\nНаволочки\\nЦена: 70р\\nЦена упк: 20...</td>\n",
       "      <td>{\"vk_wall_id\": -203393330, \"vk_post_id\": 78003}</td>\n",
       "      <td>{'place': '', 'products': [{'name': 'Наволочка...</td>\n",
       "    </tr>\n",
       "    <tr>\n",
       "      <th>112643</th>\n",
       "      <td>Распродажа\\nЦена : 50р\\nТкань:  хлопок \\nРазме...</td>\n",
       "      <td>{\"vk_wall_id\": -203393330, \"vk_post_id\": 131653}</td>\n",
       "      <td>{'place': 'Распродажа', 'products': [{'name': ...</td>\n",
       "    </tr>\n",
       "  </tbody>\n",
       "</table>\n",
       "<p>1500 rows × 3 columns</p>\n",
       "</div>"
      ],
      "text/plain": [
       "                                                     text  \\\n",
       "48116   Распродажа \\nСережки \\nЦена: 60р\\nУпк от 10шт ...   \n",
       "98375   Распродажа \\nЦена: 150р \\nЦена уп 5×140р\\nРазм...   \n",
       "48348   Распродажа\\nРост:86-92-98-104-110-116\\nЦена: 5...   \n",
       "104934             Распродажа \\nКрюч \\nЦена:35р\\nАрт:9-46   \n",
       "10099   Распродажа\\nЦена: 300р\\nТкань: кожа двухнитка\\...   \n",
       "...                                                   ...   \n",
       "109287  Распродажа\\nЦена: 50р\\nРазмер: 86-92.92-98. 98...   \n",
       "44659   Распродажа \\nКофточка Водолазки\\nТкань: шерсть...   \n",
       "106707  Распродажа\\nНабор канцелярский в стакане \"МУЛЬ...   \n",
       "84485   Распродажа\\nНаволочки\\nЦена: 70р\\nЦена упк: 20...   \n",
       "112643  Распродажа\\nЦена : 50р\\nТкань:  хлопок \\nРазме...   \n",
       "\n",
       "                                              index_info  \\\n",
       "48116    {\"vk_wall_id\": -206817857, \"vk_post_id\": 75889}   \n",
       "98375   {\"vk_wall_id\": -203393330, \"vk_post_id\": 103913}   \n",
       "48348    {\"vk_wall_id\": -206817857, \"vk_post_id\": 76318}   \n",
       "104934  {\"vk_wall_id\": -203393330, \"vk_post_id\": 116860}   \n",
       "10099    {\"vk_wall_id\": -209013890, \"vk_post_id\": 53366}   \n",
       "...                                                  ...   \n",
       "109287  {\"vk_wall_id\": -203393330, \"vk_post_id\": 125493}   \n",
       "44659    {\"vk_wall_id\": -206817857, \"vk_post_id\": 69518}   \n",
       "106707  {\"vk_wall_id\": -203393330, \"vk_post_id\": 120526}   \n",
       "84485    {\"vk_wall_id\": -203393330, \"vk_post_id\": 78003}   \n",
       "112643  {\"vk_wall_id\": -203393330, \"vk_post_id\": 131653}   \n",
       "\n",
       "                                                     json  \n",
       "48116   {'products': [{'name': 'Сережки', 'price': 60,...  \n",
       "98375   {'place': 'https://vk.com/ylstore3001', 'produ...  \n",
       "48348   {'place': '', 'products': [{'name': '1-5-20 ко...  \n",
       "104934  {'place': '', 'products': [{'name': 'Крюч', 'p...  \n",
       "10099   {'place': 'null', 'products': [{'name': 'Распр...  \n",
       "...                                                   ...  \n",
       "109287                                                NaN  \n",
       "44659   {'place': '', 'products': [{'name': 'Кофточка ...  \n",
       "106707  {'place': 'уточнить', 'products': [{'name': 'н...  \n",
       "84485   {'place': '', 'products': [{'name': 'Наволочка...  \n",
       "112643  {'place': 'Распродажа', 'products': [{'name': ...  \n",
       "\n",
       "[1500 rows x 3 columns]"
      ]
     },
     "execution_count": 7,
     "metadata": {},
     "output_type": "execute_result"
    }
   ],
   "source": [
    "df"
   ]
  },
  {
   "cell_type": "code",
   "execution_count": 8,
   "metadata": {},
   "outputs": [
    {
     "data": {
      "text/plain": [
       "1463"
      ]
     },
     "execution_count": 8,
     "metadata": {},
     "output_type": "execute_result"
    }
   ],
   "source": [
    "df = df[df.json.apply(lambda obj: type(obj) is dict)]\n",
    "len(df)"
   ]
  },
  {
   "cell_type": "code",
   "execution_count": 9,
   "metadata": {},
   "outputs": [],
   "source": [
    "df.reset_index(drop=True).to_pickle('cache/final_vk_1500.pkl')"
   ]
  },
  {
   "cell_type": "code",
   "execution_count": 23,
   "metadata": {},
   "outputs": [
    {
     "data": {
      "text/plain": [
       "'Распродажа \\nСережки \\nЦена: 60р\\nУпк от 10шт 40р\\nАрт: 2в-85 корпус А'"
      ]
     },
     "execution_count": 23,
     "metadata": {},
     "output_type": "execute_result"
    }
   ],
   "source": [
    "df.iloc[0].text"
   ]
  },
  {
   "cell_type": "code",
   "execution_count": 26,
   "metadata": {},
   "outputs": [
    {
     "name": "stdout",
     "output_type": "stream",
     "text": [
      "Распродажа \n",
      "Сережки \n",
      "Цена: 60р\n",
      "Упк от 10шт 40р\n",
      "Арт: 2в-85 корпус А\n",
      "{'products': [{'name': 'Сережки', 'price': 60, 'currency': 'рубли', 'count': 1}], 'place': ''}\n"
     ]
    }
   ],
   "source": [
    "print(df.iloc[0].text)\n",
    "print(df.iloc[0].json)"
   ]
  },
  {
   "cell_type": "code",
   "execution_count": 31,
   "metadata": {},
   "outputs": [],
   "source": [
    "product_count = df.json.apply(lambda js: len(js['products']) if type(js) is dict else -1)"
   ]
  },
  {
   "cell_type": "code",
   "execution_count": 47,
   "metadata": {},
   "outputs": [
    {
     "data": {
      "image/png": "[encoded data removed]",
      "text/plain": [
       "<Figure size 640x480 with 1 Axes>"
      ]
     },
     "metadata": {},
     "output_type": "display_data"
    }
   ],
   "source": [
    "plt.hist(product_count.values, bins=range(-1, 21))\n",
    "for i in range(-1, 21):\n",
    "    plt.text(i + 0.5, 0, str(i), ha='center', va='bottom')\n",
    "\n",
    "plt.grid(True);"
   ]
  },
  {
   "cell_type": "code",
   "execution_count": 49,
   "metadata": {},
   "outputs": [
    {
     "data": {
      "text/plain": [
       "99"
      ]
     },
     "execution_count": 49,
     "metadata": {},
     "output_type": "execute_result"
    }
   ],
   "source": [
    "sum(product_count > 6)"
   ]
  },
  {
   "cell_type": "code",
   "execution_count": 51,
   "metadata": {},
   "outputs": [
    {
     "data": {
      "text/plain": [
       "3874"
      ]
     },
     "execution_count": 51,
     "metadata": {},
     "output_type": "execute_result"
    }
   ],
   "source": [
    "sum(product_count)"
   ]
  },
  {
   "cell_type": "code",
   "execution_count": 54,
   "metadata": {},
   "outputs": [
    {
     "data": {
      "text/plain": [
       "(array([1025.,  377.,   44.,   18.,   15.,    7.,    7.,    2.,    2.,\n",
       "           3.]),\n",
       " array([ 30. , 122.5, 215. , 307.5, 400. , 492.5, 585. , 677.5, 770. ,\n",
       "        862.5, 955. ]),\n",
       " <BarContainer object of 10 artists>)"
      ]
     },
     "execution_count": 54,
     "metadata": {},
     "output_type": "execute_result"
    },
    {
     "data": {
      "image/png": "[encoded data removed]",
      "text/plain": [
       "<Figure size 640x480 with 1 Axes>"
      ]
     },
     "metadata": {},
     "output_type": "display_data"
    }
   ],
   "source": [
    "plt.hist(df.text.apply(len))"
   ]
  },
  {
   "cell_type": "code",
   "execution_count": 58,
   "metadata": {},
   "outputs": [
    {
     "name": "stdout",
     "output_type": "stream",
     "text": [
      "#БНИ_ПродамБУ_Самара\n",
      "#БНИ_Авито \n",
      "#БНИ_11606038   \n",
      "\n",
      "1. Арнак с допом. Состояние отличное. Карты все были в протекторах. 4500 \n",
      "2. Поиски планеты Х, состояние отличное, использовалось всего листа 4. 2900\n",
      "3. Инновация. Редкая редкость и старая старость. Состояние на 4. Одна карта немного замята. Ни на что не влияет. 800 \n",
      "4. Нусфьорд. Состояние отличное. Карты были в протекторах. Из бонусов-колода камбала. Сам печатал и делал вставки. 3500\n",
      "5. Маленькие империи Самураи. Состояние идельное. 2 партии. 3000\n",
      "6. Халлертау 4000\n",
      "7. Keyflower+ доп. База русская, доп польский, правила на русском. Игра языконезависимая. 6000\n"
     ]
    }
   ],
   "source": [
    "print(df.text[df.text.apply(len) > 600].values[0])"
   ]
  },
  {
   "cell_type": "code",
   "execution_count": null,
   "metadata": {},
   "outputs": [],
   "source": []
  }
 ],
 "metadata": {
  "kernelspec": {
   "display_name": "Python 3",
   "language": "python",
   "name": "python3"
  },
  "language_info": {
   "codemirror_mode": {
    "name": "ipython",
    "version": 3
   },
   "file_extension": ".py",
   "mimetype": "text/x-python",
   "name": "python",
   "nbconvert_exporter": "python",
   "pygments_lexer": "ipython3",
   "version": "3.11.5"
  }
 },
 "nbformat": 4,
 "nbformat_minor": 2
}
